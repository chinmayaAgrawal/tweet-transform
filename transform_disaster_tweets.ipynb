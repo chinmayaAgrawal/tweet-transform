{
  "nbformat": 4,
  "nbformat_minor": 0,
  "metadata": {
    "kernelspec": {
      "display_name": "Python 3",
      "language": "python",
      "name": "python3"
    },
    "language_info": {
      "codemirror_mode": {
        "name": "ipython",
        "version": 3
      },
      "file_extension": ".py",
      "mimetype": "text/x-python",
      "name": "python",
      "nbconvert_exporter": "python",
      "pygments_lexer": "ipython3",
      "version": "3.7.6"
    },
    "papermill": {
      "duration": 2127.928522,
      "end_time": "2021-01-06T08:04:39.107343",
      "environment_variables": {},
      "exception": null,
      "input_path": "__notebook__.ipynb",
      "output_path": "__notebook__.ipynb",
      "parameters": {},
      "start_time": "2021-01-06T07:29:11.178821",
      "version": "2.1.0"
    },
    "colab": {
      "name": "transformer-is-all-you-need-for-disaster-tweets.ipynb",
      "provenance": []
    }
  },
  "cells": [
    {
      "cell_type": "markdown",
      "metadata": {
        "papermill": {
          "duration": 0.063203,
          "end_time": "2021-01-06T07:29:15.641161",
          "exception": false,
          "start_time": "2021-01-06T07:29:15.577958",
          "status": "completed"
        },
        "tags": [],
        "id": "4Y22zmA9KR6L"
      },
      "source": [
        "# Tweets Disaster Classification: LSTM, Attention and Transformers <br>\n",
        "Author: TeYang, Lau<br>\n",
        "Created: 18/2/2020<br>\n",
        "Last update: 6/1/2021<br>\n",
        "\n",
        "<img src = 'https://bn1301files.storage.live.com/y4m-toxx6sX6SL9zvwtvAbEi9xPKLkgI6kdJ0PJ0uWjzQIR5GouWmvWfMBEuppVlUoFh3eZkKSrveb0QWnLNHPfHVwlBx55CtJMcmqurAYyBv-a2d1rSAmBUxU9CYHY7zZ50XIldgPJMkU7o18TcvrbPJatlu7ioKXMNV0qyev-Z1ise-zNPFjcYmbqz52FSyeW?width=5048&height=1838&cropmode=none' width=\"900\">\n",
        "\n",
        "<br><br>\n",
        "\n",
        "In the era of big data, text and sequential data are the most uniquitous, from social media to medical records to speech recordings. As such, **natural language processing** problems are present in most fields and industry, and deep neural networks that can learn and tackle these problems are becoming increasingly important. The purpose of this notebook is to use some of the most common and effective models to tackle a **sentence classification** problem, specifically, to classify whether a tweet is about a disaster or not. This is easy for a human, but a computer will find it difficult as languages contain multiple complexities. A model will thus will have to take into account the sequential nature of the tweet, the meaning and representation of each word in numbers, as well as the importance and contribution of other words in the same sequence, since two words can have completely different meanings in two different contexts. For example, take the word `kill`. Although it might seem to indicate a disaster, what if it was used in a different context, such as when referring to the book 'To kill a mockingbird'? Thus, NLP is not an easy problem for a computer to solve but recent advances has greatly advanced this process.  \n",
        "\n",
        "The dataset contains 10,000 tweets that were classified as disaster or non-disaster.\n",
        "\n",
        "\n",
        "## Project Goals\n",
        "1. *Explore* using different sequence models **(LSTM, Attention, Transformers)** for NLP sentence classification problem\n",
        "2. *Preprocess/Clean* tweets data into appropriate format for inputting into neural network models \n",
        "3. *Understand* **word embeddings** and how they are used to represent words as inputs into NLP models\n",
        "4. *Engineer* new features from tweets data that can help to improve model classification\n",
        "\n",
        "\n",
        "### What's in this notebook:\n",
        "1. [Data Loading and Structure](#Data_loading_structure)\n",
        "2. [Exploratory Data Analysis of Tweets](#EDA) <br>\n",
        "2.1. [Distribution of Character, Word and Sentence Frequency](#Frequency_Distribution) <br>\n",
        "2.2. [Top Most Common Stopwords](#Top_Stopwords) <br>\n",
        "2.3. [Top Most Common Punctuations](#Top_Punc) <br>\n",
        "2.4. [Top Most Common Words](#Top_Words) <br>\n",
        "2.5. [Wordcloud for Hashtags](#Hashtags) <br>\n",
        "3. [Meta-Feature Engineering](#Feature_Engineer)\n",
        "4. [Text Data Cleaning](#Data_Clean) <br>\n",
        "4.1. [Ngrams](#Ngrams) <br>\n",
        "4.2. [WordCloud of Most Common Words after Cleaning](#WC_Cleaned)\n",
        "5. [Train Validation Data Split](#TrainValSplit)    \n",
        "6. [Embedding Layer](#Embedding) <br>\n",
        "6.1. [Tokenization](#Tokenization) <br>\n",
        "6.2. [Padding](#Padding) <br>\n",
        "6.3. [Embedding Matrix – GloVe](#E_Matrix) <br>\n",
        "7. [Model Building & Training](#Model_Build) <br>\n",
        "7.1. [Long Short-Term Memory (LSTM)](#LSTM) <br>\n",
        "7.2. [Bidirectional LSTM with Attention](#Attention) <br>\n",
        "7.3. [BERT](#BERT)\n",
        "8. [Error Analysis](#Error)\n",
        "9. [Testing](#Test)\n",
        "10. [Conclusion](#Conclusion)<br><br>"
      ]
    },
    {
      "cell_type": "markdown",
      "metadata": {
        "papermill": {
          "duration": 0.061194,
          "end_time": "2021-01-06T07:29:15.800522",
          "exception": false,
          "start_time": "2021-01-06T07:29:15.739328",
          "status": "completed"
        },
        "tags": [],
        "id": "oax-Q-HDKR6S"
      },
      "source": [
        "<a id='Data_loading_structure'></a>\n",
        "# 1. Data Loading and Structure"
      ]
    },
    {
      "cell_type": "code",
      "metadata": {
        "execution": {
          "iopub.execute_input": "2021-01-06T07:29:15.932382Z",
          "iopub.status.busy": "2021-01-06T07:29:15.931732Z",
          "iopub.status.idle": "2021-01-06T07:29:16.007328Z",
          "shell.execute_reply": "2021-01-06T07:29:16.005226Z"
        },
        "papermill": {
          "duration": 0.145826,
          "end_time": "2021-01-06T07:29:16.007593",
          "exception": false,
          "start_time": "2021-01-06T07:29:15.861767",
          "status": "completed"
        },
        "tags": [],
        "colab": {
          "resources": {
            "http://localhost:8080/nbextensions/google.colab/files.js": {
              "data": "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",
              "ok": true,
              "headers": [
                [
                  "content-type",
                  "application/javascript"
                ]
              ],
              "status": 200,
              "status_text": ""
            }
          },
          "base_uri": "https://localhost:8080/",
          "height": 72
        },
        "id": "KPr19By3KR6T",
        "outputId": "efabddf8-ec9d-4cbc-ab67-84d5c1724214"
      },
      "source": [
        "import numpy as np \n",
        "import pandas as pd \n",
        "\n",
        "# import os\n",
        "# for dirname, _, filenames in os.walk('/kaggle/input'):\n",
        "#     for filename in filenames:\n",
        "#         print(os.path.join(dirname, filename))\n",
        "\n",
        "from ipywidgets import FileUpload\n",
        "\n",
        "def on_upload_change(change):\n",
        "    if change.new==0:\n",
        "        print ('cleared')\n",
        "        return\n",
        "    up = change.owner\n",
        "    print (type(up.value))\n",
        "    for filename,data in up.value.items():\n",
        "        print('==========================================================================================')\n",
        "        print(filename)\n",
        "        for k,v in data['metadata'].items():\n",
        "            print(f'    -{k:13}:[{v}]')\n",
        "        print(f'    -content len  :[{len(data[\"content\"])}]')\n",
        "        print('==========================================================================================')\n",
        "    up.value.clear()\n",
        "    up._counter = 0\n",
        "\n",
        "upload_btn = FileUpload()\n",
        "upload_btn.observe(on_upload_change, names='_counter')\n",
        "upload_btn\n",
        "\n",
        "from google.colab import files\n",
        "data_to_load = files.upload()\n",
        "import io\n",
        "tweets = pd.read_csv(io.BytesIO(data_to_load['train.csv']))\n",
        "#tweets = pd.read_csv('train.csv')\n",
        "#test = pd.read_csv('test.csv')\n",
        "\n",
        "#tweets = pd.read_csv(r'C:\\Users\\TeYan\\OneDrive\\Work\\Kaggle\\Tweets_Disaster\\Data\\train.csv')\n",
        "#tweets = pd.read_csv('/Users/teyang/OneDrive/Work/Kaggle/Tweets_Disaster/Data/train.csv')"
      ],
      "execution_count": 13,
      "outputs": [
        {
          "output_type": "display_data",
          "data": {
            "text/html": [
              "\n",
              "     <input type=\"file\" id=\"files-7500e453-9730-4835-9582-438b30b496b6\" name=\"files[]\" multiple disabled\n",
              "        style=\"border:none\" />\n",
              "     <output id=\"result-7500e453-9730-4835-9582-438b30b496b6\">\n",
              "      Upload widget is only available when the cell has been executed in the\n",
              "      current browser session. Please rerun this cell to enable.\n",
              "      </output>\n",
              "      <script src=\"/nbextensions/google.colab/files.js\"></script> "
            ],
            "text/plain": [
              "<IPython.core.display.HTML object>"
            ]
          },
          "metadata": {}
        },
        {
          "output_type": "stream",
          "name": "stdout",
          "text": [
            "Saving train.csv to train (3).csv\n"
          ]
        }
      ]
    },
    {
      "cell_type": "code",
      "metadata": {
        "execution": {
          "iopub.execute_input": "2021-01-06T07:29:16.211633Z",
          "iopub.status.busy": "2021-01-06T07:29:16.210483Z",
          "iopub.status.idle": "2021-01-06T07:29:16.239062Z",
          "shell.execute_reply": "2021-01-06T07:29:16.239801Z"
        },
        "papermill": {
          "duration": 0.132581,
          "end_time": "2021-01-06T07:29:16.240045",
          "exception": false,
          "start_time": "2021-01-06T07:29:16.107464",
          "status": "completed"
        },
        "tags": [],
        "colab": {
          "base_uri": "https://localhost:8080/",
          "height": 204
        },
        "id": "8NUhM_QXKR6V",
        "outputId": "2c81bd33-1261-48f1-ed0f-6ee85783c1eb"
      },
      "source": [
        "tweets.head()\n"
      ],
      "execution_count": 14,
      "outputs": [
        {
          "output_type": "execute_result",
          "data": {
            "text/html": [
              "<div>\n",
              "<style scoped>\n",
              "    .dataframe tbody tr th:only-of-type {\n",
              "        vertical-align: middle;\n",
              "    }\n",
              "\n",
              "    .dataframe tbody tr th {\n",
              "        vertical-align: top;\n",
              "    }\n",
              "\n",
              "    .dataframe thead th {\n",
              "        text-align: right;\n",
              "    }\n",
              "</style>\n",
              "<table border=\"1\" class=\"dataframe\">\n",
              "  <thead>\n",
              "    <tr style=\"text-align: right;\">\n",
              "      <th></th>\n",
              "      <th>id</th>\n",
              "      <th>keyword</th>\n",
              "      <th>location</th>\n",
              "      <th>text</th>\n",
              "      <th>target</th>\n",
              "    </tr>\n",
              "  </thead>\n",
              "  <tbody>\n",
              "    <tr>\n",
              "      <th>0</th>\n",
              "      <td>1</td>\n",
              "      <td>NaN</td>\n",
              "      <td>NaN</td>\n",
              "      <td>Our Deeds are the Reason of this #earthquake M...</td>\n",
              "      <td>1</td>\n",
              "    </tr>\n",
              "    <tr>\n",
              "      <th>1</th>\n",
              "      <td>4</td>\n",
              "      <td>NaN</td>\n",
              "      <td>NaN</td>\n",
              "      <td>Forest fire near La Ronge Sask. Canada</td>\n",
              "      <td>1</td>\n",
              "    </tr>\n",
              "    <tr>\n",
              "      <th>2</th>\n",
              "      <td>5</td>\n",
              "      <td>NaN</td>\n",
              "      <td>NaN</td>\n",
              "      <td>All residents asked to 'shelter in place' are ...</td>\n",
              "      <td>1</td>\n",
              "    </tr>\n",
              "    <tr>\n",
              "      <th>3</th>\n",
              "      <td>6</td>\n",
              "      <td>NaN</td>\n",
              "      <td>NaN</td>\n",
              "      <td>13,000 people receive #wildfires evacuation or...</td>\n",
              "      <td>1</td>\n",
              "    </tr>\n",
              "    <tr>\n",
              "      <th>4</th>\n",
              "      <td>7</td>\n",
              "      <td>NaN</td>\n",
              "      <td>NaN</td>\n",
              "      <td>Just got sent this photo from Ruby #Alaska as ...</td>\n",
              "      <td>1</td>\n",
              "    </tr>\n",
              "  </tbody>\n",
              "</table>\n",
              "</div>"
            ],
            "text/plain": [
              "   id keyword  ...                                               text target\n",
              "0   1     NaN  ...  Our Deeds are the Reason of this #earthquake M...      1\n",
              "1   4     NaN  ...             Forest fire near La Ronge Sask. Canada      1\n",
              "2   5     NaN  ...  All residents asked to 'shelter in place' are ...      1\n",
              "3   6     NaN  ...  13,000 people receive #wildfires evacuation or...      1\n",
              "4   7     NaN  ...  Just got sent this photo from Ruby #Alaska as ...      1\n",
              "\n",
              "[5 rows x 5 columns]"
            ]
          },
          "metadata": {},
          "execution_count": 14
        }
      ]
    },
    {
      "cell_type": "code",
      "metadata": {
        "execution": {
          "iopub.execute_input": "2021-01-06T07:29:16.452619Z",
          "iopub.status.busy": "2021-01-06T07:29:16.451728Z",
          "iopub.status.idle": "2021-01-06T07:29:16.685233Z",
          "shell.execute_reply": "2021-01-06T07:29:16.686385Z"
        },
        "papermill": {
          "duration": 0.349868,
          "end_time": "2021-01-06T07:29:16.686564",
          "exception": false,
          "start_time": "2021-01-06T07:29:16.336696",
          "status": "completed"
        },
        "tags": [],
        "colab": {
          "base_uri": "https://localhost:8080/",
          "height": 314
        },
        "id": "q5RSR89mKR6W",
        "outputId": "156fbc66-2547-4773-9225-a31babd013d1"
      },
      "source": [
        "tweets.isnull().sum().plot(kind='bar')"
      ],
      "execution_count": 15,
      "outputs": [
        {
          "output_type": "execute_result",
          "data": {
            "text/plain": [
              "<matplotlib.axes._subplots.AxesSubplot at 0x7f5e3fec6510>"
            ]
          },
          "metadata": {},
          "execution_count": 15
        },
        {
          "output_type": "display_data",
          "data": {
            "image/png": "[encoded data removed]",
            "text/plain": [
              "<Figure size 432x288 with 1 Axes>"
            ]
          },
          "metadata": {
            "needs_background": "light"
          }
        }
      ]
    },
    {
      "cell_type": "markdown",
      "metadata": {
        "papermill": {
          "duration": 0.091537,
          "end_time": "2021-01-06T07:29:16.873386",
          "exception": false,
          "start_time": "2021-01-06T07:29:16.781849",
          "status": "completed"
        },
        "tags": [],
        "id": "8mMkulH7KR6X"
      },
      "source": [
        "Location has lots of NaN values and would not be a good/useful feature, unless we have a priori knowledge of where a disaster occured. Furthermore, some of them are not in the correct format, so it will be quite time consuming to clean it. \n",
        "\n",
        "Keyword has NaNs as well, but can be imputed with 'None'."
      ]
    },
    {
      "cell_type": "code",
      "metadata": {
        "execution": {
          "iopub.execute_input": "2021-01-06T07:29:17.077167Z",
          "iopub.status.busy": "2021-01-06T07:29:17.075597Z",
          "iopub.status.idle": "2021-01-06T07:29:18.069677Z",
          "shell.execute_reply": "2021-01-06T07:29:18.070147Z"
        },
        "papermill": {
          "duration": 1.102057,
          "end_time": "2021-01-06T07:29:18.070288",
          "exception": false,
          "start_time": "2021-01-06T07:29:16.968231",
          "status": "completed"
        },
        "tags": [],
        "colab": {
          "base_uri": "https://localhost:8080/",
          "height": 350
        },
        "id": "vF1biViBKR6X",
        "outputId": "9e900efa-0f42-48b1-dd8a-2427f84d04fc"
      },
      "source": [
        "import seaborn as sns\n",
        "import matplotlib.pyplot as plt\n",
        "\n",
        "color = [sns.xkcd_rgb['medium blue'], sns.xkcd_rgb['pale red']]\n",
        "sns.countplot('target',data = tweets, palette = color)\n",
        "plt.gca().set_ylabel('Samples')"
      ],
      "execution_count": 16,
      "outputs": [
        {
          "output_type": "stream",
          "name": "stderr",
          "text": [
            "/usr/local/lib/python3.7/dist-packages/seaborn/_decorators.py:43: FutureWarning: Pass the following variable as a keyword arg: x. From version 0.12, the only valid positional argument will be `data`, and passing other arguments without an explicit keyword will result in an error or misinterpretation.\n",
            "  FutureWarning\n"
          ]
        },
        {
          "output_type": "execute_result",
          "data": {
            "text/plain": [
              "Text(0, 0.5, 'Samples')"
            ]
          },
          "metadata": {},
          "execution_count": 16
        },
        {
          "output_type": "display_data",
          "data": {
            "image/png": "[encoded data removed]",
            "text/plain": [
              "<Figure size 432x288 with 1 Axes>"
            ]
          },
          "metadata": {
            "needs_background": "light"
          }
        }
      ]
    },
    {
      "cell_type": "markdown",
      "metadata": {
        "papermill": {
          "duration": 0.065829,
          "end_time": "2021-01-06T07:29:18.204392",
          "exception": false,
          "start_time": "2021-01-06T07:29:18.138563",
          "status": "completed"
        },
        "tags": [],
        "id": "eQgl1SbSKR6Y"
      },
      "source": [
        "<a id='EDA'></a>\n",
        "# 2. Exploratory Data Analysis of Tweets\n",
        "\n",
        "<a id='Frequency_Distribution'></a>\n",
        "## 2.1. Distribution of Character, Word and Sentence Frequency"
      ]
    },
    {
      "cell_type": "code",
      "metadata": {
        "execution": {
          "iopub.execute_input": "2021-01-06T07:29:18.356403Z",
          "iopub.status.busy": "2021-01-06T07:29:18.355537Z",
          "iopub.status.idle": "2021-01-06T07:29:23.266506Z",
          "shell.execute_reply": "2021-01-06T07:29:23.267249Z"
        },
        "papermill": {
          "duration": 4.996814,
          "end_time": "2021-01-06T07:29:23.267451",
          "exception": false,
          "start_time": "2021-01-06T07:29:18.270637",
          "status": "completed"
        },
        "tags": [],
        "colab": {
          "base_uri": "https://localhost:8080/",
          "height": 231
        },
        "id": "_JYXYoDXKR6Z",
        "outputId": "222a0ecd-fdbb-42c2-f7ee-ae0367dd4078"
      },
      "source": [
        "#import nltk\n",
        "#nltk.download('punkt')\n",
        "from nltk import word_tokenize, sent_tokenize\n",
        "\n",
        "# count number of characters in each tweet\n",
        "tweets['char_len'] = tweets.text.str.len()\n",
        "\n",
        "# count number of words in each tweet\n",
        "word_tokens = [len(word_tokenize(tweet)) for tweet in tweets.text]\n",
        "tweets['word_len'] = word_tokens\n",
        "\n",
        "# count number of sentence in each tweet\n",
        "sent_tokens = [len(sent_tokenize(tweet)) for tweet in tweets.text]\n",
        "tweets['sent_len'] = sent_tokens\n",
        "\n",
        "plot_cols = ['char_len','word_len','sent_len']\n",
        "plot_titles = ['Character Length','Word Length','Sentence Length']\n",
        "\n",
        "plt.figure(figsize=(20,4))\n",
        "for counter, i in enumerate([0,1,2]):\n",
        "    plt.subplot(1,3,counter+1)\n",
        "    sns.distplot(tweets[tweets.target == 1][plot_cols[i]], label='Disaster', color=color[1]).set_title(plot_titles[i])\n",
        "    sns.distplot(tweets[tweets.target == 0][plot_cols[i]], label='Non-Disaster', color=color[0])\n",
        "    plt.legend()\n",
        "\n",
        "\n"
      ],
      "execution_count": 18,
      "outputs": [
        {
          "output_type": "error",
          "ename": "TypeError",
          "evalue": "ignored",
          "traceback": [
            "\u001b[0;31m---------------------------------------------------------------------------\u001b[0m",
            "\u001b[0;31mTypeError\u001b[0m                                 Traceback (most recent call last)",
            "\u001b[0;32m<ipython-input-18-9bd2dc2e58aa>\u001b[0m in \u001b[0;36m<module>\u001b[0;34m()\u001b[0m\n\u001b[1;32m      2\u001b[0m \u001b[0;31m#nltk.download('punkt')\u001b[0m\u001b[0;34m\u001b[0m\u001b[0;34m\u001b[0m\u001b[0;34m\u001b[0m\u001b[0m\n\u001b[1;32m      3\u001b[0m \u001b[0;32mfrom\u001b[0m \u001b[0mnltk\u001b[0m \u001b[0;32mimport\u001b[0m \u001b[0mword_tokenize\u001b[0m\u001b[0;34m,\u001b[0m \u001b[0msent_tokenize\u001b[0m\u001b[0;34m\u001b[0m\u001b[0;34m\u001b[0m\u001b[0m\n\u001b[0;32m----> 4\u001b[0;31m \u001b[0mwt\u001b[0m\u001b[0;34m=\u001b[0m\u001b[0mword_tokenize\u001b[0m\u001b[0;34m(\u001b[0m\u001b[0;34m)\u001b[0m\u001b[0;34m\u001b[0m\u001b[0;34m\u001b[0m\u001b[0m\n\u001b[0m\u001b[1;32m      5\u001b[0m \u001b[0mst\u001b[0m\u001b[0;34m=\u001b[0m\u001b[0msent_tokenize\u001b[0m\u001b[0;34m(\u001b[0m\u001b[0;34m)\u001b[0m\u001b[0;34m\u001b[0m\u001b[0;34m\u001b[0m\u001b[0m\n\u001b[1;32m      6\u001b[0m \u001b[0;31m# count number of characters in each tweet\u001b[0m\u001b[0;34m\u001b[0m\u001b[0;34m\u001b[0m\u001b[0;34m\u001b[0m\u001b[0m\n",
            "\u001b[0;31mTypeError\u001b[0m: word_tokenize() missing 1 required positional argument: 'text'"
          ]
        }
      ]
    },
    {
      "cell_type": "code",
      "metadata": {
        "execution": {
          "iopub.execute_input": "2021-01-06T07:29:23.423519Z",
          "iopub.status.busy": "2021-01-06T07:29:23.422727Z",
          "iopub.status.idle": "2021-01-06T07:29:23.426508Z",
          "shell.execute_reply": "2021-01-06T07:29:23.427005Z"
        },
        "papermill": {
          "duration": 0.090469,
          "end_time": "2021-01-06T07:29:23.427160",
          "exception": false,
          "start_time": "2021-01-06T07:29:23.336691",
          "status": "completed"
        },
        "tags": [],
        "id": "r1S5SLx_KR6a"
      },
      "source": [
        "# Investigate the Outliers\n",
        "\n",
        "tweets[tweets.sent_len > 8]\n",
        "tweets[tweets.word_len > 50]"
      ],
      "execution_count": null,
      "outputs": []
    },
    {
      "cell_type": "markdown",
      "metadata": {
        "papermill": {
          "duration": 0.066835,
          "end_time": "2021-01-06T07:29:23.560873",
          "exception": false,
          "start_time": "2021-01-06T07:29:23.494038",
          "status": "completed"
        },
        "tags": [],
        "id": "UDjZCP9TKR6a"
      },
      "source": [
        "Some of the outliers such as sentence length > 10 consist of a lot of punctuations. I left it unchanged as I feel that a  tweet with a many sentences, which is indicative of many punctuations, suggest that it is not a serious tweet (about a disaster). Of course there might be some instances where a disaster tweet consists of multiple punctuations (e.g. a volvano just erupted!!!!!!!!!!!!) but that is not very frequent.\n"
      ]
    },
    {
      "cell_type": "markdown",
      "metadata": {
        "papermill": {
          "duration": 0.066567,
          "end_time": "2021-01-06T07:29:23.694186",
          "exception": false,
          "start_time": "2021-01-06T07:29:23.627619",
          "status": "completed"
        },
        "tags": [],
        "id": "t-wpR8wgKR6b"
      },
      "source": [
        "<a id='Top_Stopwords'></a>\n",
        "## 2.2. Top Most Common Stopwords"
      ]
    },
    {
      "cell_type": "code",
      "metadata": {
        "execution": {
          "iopub.execute_input": "2021-01-06T07:29:23.842035Z",
          "iopub.status.busy": "2021-01-06T07:29:23.841330Z",
          "iopub.status.idle": "2021-01-06T07:29:26.484617Z",
          "shell.execute_reply": "2021-01-06T07:29:26.484088Z"
        },
        "papermill": {
          "duration": 2.723755,
          "end_time": "2021-01-06T07:29:26.484723",
          "exception": false,
          "start_time": "2021-01-06T07:29:23.760968",
          "status": "completed"
        },
        "tags": [],
        "id": "OFgKi0ofKR6b"
      },
      "source": [
        "## Plot most common stopwords\n",
        "\n",
        "#nltk.download('stopwords')\n",
        "\n",
        "from nltk.corpus import stopwords\n",
        "stop = set(stopwords.words('english'))\n",
        "\n",
        "# Get all the word tokens in dataframe for Disaster and Non-Disaster\n",
        "corpus0 = [] # Non-Disaster\n",
        "[corpus0.append(word.lower()) for tweet in tweets[tweets.target == 0].text for word in word_tokenize(tweet)]\n",
        "corpus1 = [] # Disaster\n",
        "[corpus1.append(word.lower()) for tweet in tweets[tweets.target == 1].text for word in word_tokenize(tweet)]\n",
        "\n",
        "# Function for counting top stopwords in a corpus\n",
        "def count_top_stopwords(corpus):\n",
        "    stopwords_freq = {}\n",
        "    for word in corpus:\n",
        "        if word in stop: \n",
        "            if word in stopwords_freq:\n",
        "                stopwords_freq[word] += 1\n",
        "            else:\n",
        "                stopwords_freq[word] = 1\n",
        "    topwords = sorted(stopwords_freq.items(), key=lambda item: item[1], reverse=True)[:10] # get the top 10 stopwords\n",
        "    x,y = zip(*topwords) # get key and values\n",
        "    return x,y\n",
        "\n",
        "x0,y0 = count_top_stopwords(corpus0)\n",
        "x1,y1 = count_top_stopwords(corpus1)\n",
        "\n",
        "# Plot bar plot of top stopwords for each class\n",
        "plt.figure(figsize=(15,4))\n",
        "plt.subplot(1,2,1)\n",
        "plt.bar(x0,y0, color=color[0])\n",
        "plt.title('Top Stopwords for Non-Disaster Tweets')\n",
        "plt.subplot(1,2,2)\n",
        "plt.bar(x1,y1, color=color[1])\n",
        "plt.title('Top Stopwords for  Disaster Tweets')\n",
        "\n",
        "\n",
        "\n",
        "\n"
      ],
      "execution_count": null,
      "outputs": []
    },
    {
      "cell_type": "markdown",
      "metadata": {
        "papermill": {
          "duration": 0.06837,
          "end_time": "2021-01-06T07:29:26.621978",
          "exception": false,
          "start_time": "2021-01-06T07:29:26.553608",
          "status": "completed"
        },
        "tags": [],
        "id": "VSCnM7wlKR6b"
      },
      "source": [
        "There are lots of occurences of stopwords. These should be removed as they do not predict the target."
      ]
    },
    {
      "cell_type": "markdown",
      "metadata": {
        "papermill": {
          "duration": 0.06774,
          "end_time": "2021-01-06T07:29:26.758388",
          "exception": false,
          "start_time": "2021-01-06T07:29:26.690648",
          "status": "completed"
        },
        "tags": [],
        "id": "yeASAuK5KR6c"
      },
      "source": [
        "<a id='Top_Punc'></a>\n",
        "## 2.3. Top Most Common Punctuations"
      ]
    },
    {
      "cell_type": "code",
      "metadata": {
        "execution": {
          "iopub.execute_input": "2021-01-06T07:29:26.910120Z",
          "iopub.status.busy": "2021-01-06T07:29:26.909225Z",
          "iopub.status.idle": "2021-01-06T07:29:27.668579Z",
          "shell.execute_reply": "2021-01-06T07:29:27.669082Z"
        },
        "papermill": {
          "duration": 0.84268,
          "end_time": "2021-01-06T07:29:27.669218",
          "exception": false,
          "start_time": "2021-01-06T07:29:26.826538",
          "status": "completed"
        },
        "tags": [],
        "id": "Yee87S1yKR6c"
      },
      "source": [
        "## Plot most common punctuations\n",
        "\n",
        "from string import punctuation\n",
        "\n",
        "# Get all the punctuations in dataframe for Disaster and Non-Disaster\n",
        "corpus0 = [] # Non-Disaster\n",
        "[corpus0.append(c) for tweet in tweets[tweets.target == 0].text for c in tweet]\n",
        "corpus0 = list(filter(lambda x: x in punctuation, corpus0)) # use filter to select only punctuations\n",
        "corpus1 = [] # Disaster\n",
        "[corpus1.append(c) for tweet in tweets[tweets.target == 1].text for c in tweet]\n",
        "corpus1 = list(filter(lambda x: x in punctuation, corpus1)) \n",
        "\n",
        "from collections import Counter\n",
        "x0,y0 = zip(*Counter(corpus0).most_common())\n",
        "x1,y1 = zip(*Counter(corpus1).most_common())\n",
        "\n",
        "# Plot bar plot of top punctuations for each class\n",
        "plt.figure(figsize=(15,4))\n",
        "plt.subplot(1,2,1)\n",
        "plt.bar(x0,y0, color=color[0])\n",
        "plt.title('Top Punctuations for Non-Disaster Tweets')\n",
        "plt.subplot(1,2,2)\n",
        "plt.bar(x1,y1, color=color[1])\n",
        "plt.title('Top Punctuations for Disaster Tweets')\n",
        "\n",
        "\n",
        "\n"
      ],
      "execution_count": null,
      "outputs": []
    },
    {
      "cell_type": "markdown",
      "metadata": {
        "papermill": {
          "duration": 0.069079,
          "end_time": "2021-01-06T07:29:27.808645",
          "exception": false,
          "start_time": "2021-01-06T07:29:27.739566",
          "status": "completed"
        },
        "tags": [],
        "id": "n5WLTsaEKR6c"
      },
      "source": [
        "Most common punctuation is the slash, which usually comes from a link ('http://t.co/'). URLs should be removed, as well as most punctuations, with the exception of '!?', which signal some kind of intensity or tonality of the tweet.\n"
      ]
    },
    {
      "cell_type": "markdown",
      "metadata": {
        "papermill": {
          "duration": 0.069395,
          "end_time": "2021-01-06T07:29:27.947200",
          "exception": false,
          "start_time": "2021-01-06T07:29:27.877805",
          "status": "completed"
        },
        "tags": [],
        "id": "VJTgKTjKKR6c"
      },
      "source": [
        "<a id='Top_Words'></a>\n",
        "## 2.4. Top Most Common Words"
      ]
    },
    {
      "cell_type": "code",
      "metadata": {
        "execution": {
          "iopub.execute_input": "2021-01-06T07:29:28.103993Z",
          "iopub.status.busy": "2021-01-06T07:29:28.103131Z",
          "iopub.status.idle": "2021-01-06T07:29:30.175212Z",
          "shell.execute_reply": "2021-01-06T07:29:30.175719Z"
        },
        "papermill": {
          "duration": 2.159336,
          "end_time": "2021-01-06T07:29:30.175860",
          "exception": false,
          "start_time": "2021-01-06T07:29:28.016524",
          "status": "completed"
        },
        "tags": [],
        "id": "mBaR0nsAKR6d"
      },
      "source": [
        "## Plot most common words\n",
        "import re\n",
        "from sklearn.feature_extraction.text import ENGLISH_STOP_WORDS\n",
        "\n",
        "stop = ENGLISH_STOP_WORDS.union(stop) # combine stop words from different sources\n",
        "\n",
        "# function for removing url from text\n",
        "def remove_url(txt):\n",
        "    return \" \".join(re.sub(\"([^0-9A-Za-z \\t])|(\\w+:\\/\\/\\S+)\", \"\", txt).split())\n",
        "\n",
        "# Get all the word tokens in dataframe for Disaster and Non-Disaster\n",
        "# - remove url, tokenize tweet into words, lowercase words\n",
        "corpus0 = [] # Non-Disaster\n",
        "[corpus0.append(word.lower()) for tweet in tweets[tweets.target == 0].text for word in word_tokenize(remove_url(tweet))]\n",
        "corpus0 = list(filter(lambda x: x not in stop, corpus0)) # use filter to unselect stopwords\n",
        "\n",
        "corpus1 = [] # Disaster\n",
        "[corpus1.append(word.lower()) for tweet in tweets[tweets.target == 1].text for word in word_tokenize(remove_url(tweet))]\n",
        "corpus1 = list(filter(lambda x: x not in stop, corpus1)) # use filter to unselect stopwords\n",
        "\n",
        "# Create df for word counts to use sns plots\n",
        "a = Counter(corpus0).most_common()\n",
        "df0 = pd.DataFrame(a, columns=['Word','Count'])\n",
        "\n",
        "a = Counter(corpus1).most_common()\n",
        "df1 = pd.DataFrame(a, columns=['Word','Count'])\n",
        "\n",
        "# Plot for Disaster and Non-Disaster\n",
        "plt.figure(figsize=(15,4))\n",
        "plt.subplot(1,2,1)\n",
        "sns.barplot(x='Word',y='Count',data=df0.head(10), color=color[1]).set_title('Most Common Words for Non-Disasters')\n",
        "plt.xticks(rotation=45)\n",
        "plt.subplot(1,2,2)\n",
        "sns.barplot(x='Word',y='Count',data=df1.head(10), color=color[0]).set_title('Most Common Words for Disasters')\n",
        "plt.xticks(rotation=45)\n",
        "\n",
        "\n",
        "\n",
        "\n"
      ],
      "execution_count": null,
      "outputs": []
    },
    {
      "cell_type": "markdown",
      "metadata": {
        "papermill": {
          "duration": 0.072592,
          "end_time": "2021-01-06T07:29:30.322727",
          "exception": false,
          "start_time": "2021-01-06T07:29:30.250135",
          "status": "completed"
        },
        "tags": [],
        "id": "6uDHhp-LKR6d"
      },
      "source": [
        "Disaster tweets contain more words related to disasters. But still need more cleaning. And what is the word amp? Will need to expand contractions as well such as 'im'."
      ]
    },
    {
      "cell_type": "markdown",
      "metadata": {
        "papermill": {
          "duration": 0.072322,
          "end_time": "2021-01-06T07:29:30.467449",
          "exception": false,
          "start_time": "2021-01-06T07:29:30.395127",
          "status": "completed"
        },
        "tags": [],
        "id": "QeESOnTtKR6e"
      },
      "source": [
        "<a id='Hashtags'></a>\n",
        "## 2.5. Wordcloud for Hashtags"
      ]
    },
    {
      "cell_type": "code",
      "metadata": {
        "execution": {
          "iopub.execute_input": "2021-01-06T07:29:30.620238Z",
          "iopub.status.busy": "2021-01-06T07:29:30.617907Z",
          "iopub.status.idle": "2021-01-06T07:29:31.374065Z",
          "shell.execute_reply": "2021-01-06T07:29:31.372682Z"
        },
        "papermill": {
          "duration": 0.835535,
          "end_time": "2021-01-06T07:29:31.374269",
          "exception": false,
          "start_time": "2021-01-06T07:29:30.538734",
          "status": "completed"
        },
        "tags": [],
        "id": "oJ1q82ZzKR6e"
      },
      "source": [
        "def clean(word):\n",
        "    for p in punctuation: word = word.replace(p, '')\n",
        "    return word\n",
        "\n",
        "from wordcloud import WordCloud\n",
        "\n",
        "def wc_hash(target):\n",
        "    hashtag = [clean(w[1:].lower()) for tweet in tweets[tweets.target == target].text for w in tweet.split() if '#' in w and w[0] == '#']\n",
        "    hashtag = ' '.join(hashtag)\n",
        "    my_cloud = WordCloud(background_color='white', stopwords=stop).generate(hashtag)\n",
        "\n",
        "    plt.subplot(1,2,target+1)\n",
        "    plt.imshow(my_cloud, interpolation='bilinear') \n",
        "    plt.axis(\"off\")\n",
        "\n",
        "plt.figure(figsize=(15,4))\n",
        "wc_hash(0)\n",
        "plt.title('Non-Disaster')\n",
        "wc_hash(1)\n",
        "plt.title('Disaster')\n"
      ],
      "execution_count": null,
      "outputs": []
    },
    {
      "cell_type": "markdown",
      "metadata": {
        "papermill": {
          "duration": 0.112447,
          "end_time": "2021-01-06T07:29:31.625836",
          "exception": false,
          "start_time": "2021-01-06T07:29:31.513389",
          "status": "completed"
        },
        "tags": [],
        "id": "SaPG3Uz-KR6e"
      },
      "source": [
        "<a id='Feature_Engineer'></a>\n",
        "# 3. Meta-Feature Engineering\n",
        "\n",
        "Here, we extract some features from the tweets that might give us some idea about whether it is a disaster or not. The purpose of this is to build a feature-based model and use it as part of an ensemble model to improve the predictions of the sequence model. Although it might not perform well on its own, it can  actually boost the performance when combined with other models.\n",
        "\n",
        "* polarity - range of \\[-1,1] where 1 denotes positivity and -1 denotes negativity\n",
        "* subjectivity - range of \\[0,1] where 1 denotes personal opinions and 0 denotes factual info\n",
        "* exclaimation_num - number of exclamation marks in tweet\n",
        "* questionmark_num - number of question marks in tweet\n",
        "* url_num - number of urls in tweet\n",
        "* hash_num - number of hashtags (#) in tweet\n",
        "* mention_num - number of mentions (@) in tweet\n",
        "* contraction_num - number of contractions (e.g I'm, we're, we've)"
      ]
    },
    {
      "cell_type": "code",
      "metadata": {
        "execution": {
          "iopub.execute_input": "2021-01-06T07:29:31.861546Z",
          "iopub.status.busy": "2021-01-06T07:29:31.860673Z",
          "iopub.status.idle": "2021-01-06T07:29:36.310920Z",
          "shell.execute_reply": "2021-01-06T07:29:36.310397Z"
        },
        "papermill": {
          "duration": 4.572608,
          "end_time": "2021-01-06T07:29:36.311053",
          "exception": false,
          "start_time": "2021-01-06T07:29:31.738445",
          "status": "completed"
        },
        "tags": [],
        "id": "0I68oek4KR6f"
      },
      "source": [
        "from textblob import TextBlob\n",
        "\n",
        "# polarity and subjectivity\n",
        "tweets['polarity'] = [TextBlob(tweet).sentiment.polarity for tweet in tweets.text]\n",
        "tweets['subjectivity'] = [TextBlob(tweet).sentiment.subjectivity for tweet in tweets.text]\n",
        "\n",
        "#############################################################################################################################\n",
        "# exclaimation and question marks\n",
        "tweets['exclaimation_num'] = [tweet.count('!') for tweet in tweets.text]\n",
        "tweets['questionmark_num'] = [tweet.count('?') for tweet in tweets.text]\n",
        "\n",
        "#############################################################################################################################\n",
        "# count number of hashtags and mentions\n",
        "# Function for counting number of hashtags and mentions\n",
        "def count_url_hashtag_mention(text):\n",
        "    urls_num = len(re.findall('http[s]?://(?:[a-zA-Z]|[0-9]|[$-_@.&+]|[!*\\(\\),]|(?:%[0-9a-fA-F][0-9a-fA-F]))+', text))\n",
        "    word_tokens = text.split()\n",
        "    hash_num = len([word for word in word_tokens if word[0] == '#' and word.count('#') == 1]) # only appears once in front of word \n",
        "    mention_num = len([word for word in word_tokens if word[0] == '@' and word.count('@') == 1]) # only appears once in front of word \n",
        "    return urls_num, hash_num, mention_num\n",
        "\n",
        "url_num, hash_num, mention_num = zip(*[count_url_hashtag_mention(tweet) for tweet in tweets.text])\n",
        "tweets = tweets.assign(url_num = url_num, hash_num = hash_num, mention_num = mention_num)\n",
        "\n",
        "#############################################################################################################################\n",
        "# count number of contractions\n",
        "contractions = [\"'t\", \"'re\", \"'s\", \"'d\", \"'ll\", \"'ve\", \"'m\"]\n",
        "tweets['contraction_num'] = [sum([tweet.count(cont) for cont in contractions]) for tweet in tweets.text]\n"
      ],
      "execution_count": null,
      "outputs": []
    },
    {
      "cell_type": "code",
      "metadata": {
        "execution": {
          "iopub.execute_input": "2021-01-06T07:29:36.484193Z",
          "iopub.status.busy": "2021-01-06T07:29:36.483173Z",
          "iopub.status.idle": "2021-01-06T07:29:36.488256Z",
          "shell.execute_reply": "2021-01-06T07:29:36.487753Z"
        },
        "papermill": {
          "duration": 0.099151,
          "end_time": "2021-01-06T07:29:36.488362",
          "exception": false,
          "start_time": "2021-01-06T07:29:36.389211",
          "status": "completed"
        },
        "tags": [],
        "id": "eQoIXrl3KR6f"
      },
      "source": [
        "tweets.head()"
      ],
      "execution_count": null,
      "outputs": []
    },
    {
      "cell_type": "markdown",
      "metadata": {
        "papermill": {
          "duration": 0.077705,
          "end_time": "2021-01-06T07:29:36.643958",
          "exception": false,
          "start_time": "2021-01-06T07:29:36.566253",
          "status": "completed"
        },
        "tags": [],
        "id": "pRsjMTrKKR6g"
      },
      "source": [
        "<a id='Data_Clean'></a>\n",
        "# 4. Text Data Cleaning\n",
        "\n",
        "This is the most important step of the entire project — text preprocessing/cleaning. This cleans the text into a more 'suitable' form as inputs into the NLP models. For example, URLs might make the text difficult to understand and should be removed when necessary. The choice of whether to remove/clean some words or parts-of-speech is an entire process on its own and sometimes this needs to be experimented. Different models are also able to deal with different kinds of parts-of-speech.\n",
        "\n",
        "* Replace NaNs with 'None'\n",
        "* Expand Contractions\n",
        "* Remove Emojis\n",
        "* Remove URLs\n",
        "* Remove Punctuations except '!?' as they convey intensity and tonality of tweet\n",
        "* Replace 'amp' with 'and'\n",
        "* Word Segmentaion - segment words such as 'iwould' into 'i' and 'would'\n",
        "* Lemmatization - reduces inflected words into their root form; verb part-of-speech tag is used here)\n",
        "* Ngrams Exploration \n",
        "* Remove Stopwords\n",
        "* WordCloud of most commmon words (Unigrams)"
      ]
    },
    {
      "cell_type": "code",
      "metadata": {
        "execution": {
          "iopub.execute_input": "2021-01-06T07:29:36.828411Z",
          "iopub.status.busy": "2021-01-06T07:29:36.823270Z",
          "iopub.status.idle": "2021-01-06T07:29:37.000031Z",
          "shell.execute_reply": "2021-01-06T07:29:37.000678Z"
        },
        "papermill": {
          "duration": 0.27886,
          "end_time": "2021-01-06T07:29:37.000846",
          "exception": false,
          "start_time": "2021-01-06T07:29:36.721986",
          "status": "completed"
        },
        "tags": [],
        "id": "oEkPCTMjKR6g"
      },
      "source": [
        "## Replace NaNs with 'None'\n",
        "tweets.keyword.fillna('None', inplace=True) \n",
        "\n",
        "#############################################################################################################################\n",
        "## Expand Contractions\n",
        "\n",
        "# Function for expanding most common contractions https://stackoverflow.com/questions/19790188/expanding-english-language-contractions-in-python\n",
        "def decontraction(phrase):\n",
        "    # specific\n",
        "    phrase = re.sub(r\"won\\'t\", \"will not\", phrase)\n",
        "    phrase = re.sub(r\"can\\'t\", \"can not\", phrase)\n",
        "\n",
        "    # general\n",
        "    phrase = re.sub(r\"n\\'t\", \" not\", phrase)\n",
        "    phrase = re.sub(r\"\\'re\", \" are\", phrase)\n",
        "    phrase = re.sub(r\"\\'s\", \" is\", phrase)\n",
        "    phrase = re.sub(r\"\\'d\", \" would\", phrase)\n",
        "    phrase = re.sub(r\"\\'ll\", \" will\", phrase)\n",
        "    phrase = re.sub(r\"\\'t\", \" not\", phrase)\n",
        "    phrase = re.sub(r\"\\'ve\", \" have\", phrase)\n",
        "    phrase = re.sub(r\"\\'m\", \" am\", phrase)\n",
        "    return phrase\n",
        "\n",
        "tweets.text = [decontraction(tweet) for tweet in tweets.text]\n",
        "\n",
        "#############################################################################################################################\n",
        "## Remove Emojis\n",
        "\n",
        "# Reference : https://gist.github.com/slowkow/7a7f61f495e3dbb7e3d767f97bd7304b\n",
        "def remove_emoji(text):\n",
        "    emoji_pattern = re.compile(\"[\"\n",
        "                           u\"\\U0001F600-\\U0001F64F\"  # emoticons\n",
        "                           u\"\\U0001F300-\\U0001F5FF\"  # symbols & pictographs\n",
        "                           u\"\\U0001F680-\\U0001F6FF\"  # transport & map symbols\n",
        "                           u\"\\U0001F1E0-\\U0001F1FF\"  # flags (iOS)\n",
        "                           u\"\\U00002702-\\U000027B0\"\n",
        "                           u\"\\U000024C2-\\U0001F251\"\n",
        "                           \"]+\", flags=re.UNICODE)\n",
        "    return emoji_pattern.sub(r'', text)\n",
        "\n",
        "print(remove_emoji(\"OMG there is a volcano eruption!!! 😭😱😷\"))\n",
        "\n",
        "tweets.text = tweets.text.apply(lambda x: remove_emoji(x))"
      ],
      "execution_count": null,
      "outputs": []
    },
    {
      "cell_type": "code",
      "metadata": {
        "execution": {
          "iopub.execute_input": "2021-01-06T07:29:37.195268Z",
          "iopub.status.busy": "2021-01-06T07:29:37.184953Z",
          "iopub.status.idle": "2021-01-06T07:29:37.430374Z",
          "shell.execute_reply": "2021-01-06T07:29:37.429765Z"
        },
        "papermill": {
          "duration": 0.349263,
          "end_time": "2021-01-06T07:29:37.430494",
          "exception": false,
          "start_time": "2021-01-06T07:29:37.081231",
          "status": "completed"
        },
        "tags": [],
        "id": "4RqeGBOOKR6g"
      },
      "source": [
        "#############################################################################################################################\n",
        "## Remove URLs\n",
        "tweets.text = tweets.text.apply(lambda x: remove_url(x))\n",
        "\n",
        "#############################################################################################################################\n",
        "## Remove Punctuations except '!?'\n",
        "\n",
        "def remove_punct(text):\n",
        "    new_punct = re.sub('\\ |\\!|\\?', '', punctuation)\n",
        "    table=str.maketrans('','',new_punct)\n",
        "    return text.translate(table)\n",
        "\n",
        "tweets.text = tweets.text.apply(lambda x: remove_punct(x))\n",
        "\n",
        "#############################################################################################################################\n",
        "## Replace amp\n",
        "def replace_amp(text):\n",
        "    text = re.sub(r\" amp \", \" and \", text)\n",
        "    return text\n",
        "\n",
        "tweets.text = tweets.text.apply(lambda x: replace_amp(x))\n",
        "\n",
        "#############################################################################################################################\n"
      ],
      "execution_count": null,
      "outputs": []
    },
    {
      "cell_type": "markdown",
      "metadata": {
        "papermill": {
          "duration": 0.078502,
          "end_time": "2021-01-06T07:29:37.588886",
          "exception": false,
          "start_time": "2021-01-06T07:29:37.510384",
          "status": "completed"
        },
        "tags": [],
        "id": "9W49U9UqKR6h"
      },
      "source": [
        "Word segmentation takes a long time. So I have commented out the code and loaded the data that has already been segmented beforehand."
      ]
    },
    {
      "cell_type": "code",
      "metadata": {
        "execution": {
          "iopub.execute_input": "2021-01-06T07:29:37.759227Z",
          "iopub.status.busy": "2021-01-06T07:29:37.758603Z",
          "iopub.status.idle": "2021-01-06T07:29:37.808160Z",
          "shell.execute_reply": "2021-01-06T07:29:37.807303Z"
        },
        "papermill": {
          "duration": 0.140815,
          "end_time": "2021-01-06T07:29:37.808305",
          "exception": false,
          "start_time": "2021-01-06T07:29:37.667490",
          "status": "completed"
        },
        "tags": [],
        "id": "VB98RMgNKR6h"
      },
      "source": [
        "# from wordsegment import load, segment\n",
        "# load()\n",
        "\n",
        "# tweets.text = tweets.text.apply(lambda x: ' '.join(segment(x)))\n",
        "\n",
        "tweets = pd.read_csv('../input/twitter-logo/tweets_segmented.csv')"
      ],
      "execution_count": null,
      "outputs": []
    },
    {
      "cell_type": "code",
      "metadata": {
        "execution": {
          "iopub.execute_input": "2021-01-06T07:29:37.973952Z",
          "iopub.status.busy": "2021-01-06T07:29:37.973377Z",
          "iopub.status.idle": "2021-01-06T07:29:42.745659Z",
          "shell.execute_reply": "2021-01-06T07:29:42.746770Z"
        },
        "papermill": {
          "duration": 4.859229,
          "end_time": "2021-01-06T07:29:42.746971",
          "exception": false,
          "start_time": "2021-01-06T07:29:37.887742",
          "status": "completed"
        },
        "tags": [],
        "id": "-TEIIG7nKR6h"
      },
      "source": [
        "## Lemmatization\n",
        "\n",
        "from nltk.stem import WordNetLemmatizer\n",
        "\n",
        "lemmatizer = WordNetLemmatizer()\n",
        "def lemma(text):\n",
        "    words = word_tokenize(text)\n",
        "    return ' '.join([lemmatizer.lemmatize(w.lower(), pos='v') for w in words])\n",
        "\n",
        "tweets.text = tweets.text.apply(lambda x: lemma(x))\n"
      ],
      "execution_count": null,
      "outputs": []
    },
    {
      "cell_type": "markdown",
      "metadata": {
        "papermill": {
          "duration": 0.13098,
          "end_time": "2021-01-06T07:29:42.992347",
          "exception": false,
          "start_time": "2021-01-06T07:29:42.861367",
          "status": "completed"
        },
        "tags": [],
        "id": "T5Dq4XjfKR6h"
      },
      "source": [
        "### Ngrams"
      ]
    },
    {
      "cell_type": "code",
      "metadata": {
        "execution": {
          "iopub.execute_input": "2021-01-06T07:29:43.207763Z",
          "iopub.status.busy": "2021-01-06T07:29:43.206978Z",
          "iopub.status.idle": "2021-01-06T07:29:43.210338Z",
          "shell.execute_reply": "2021-01-06T07:29:43.210807Z"
        },
        "papermill": {
          "duration": 0.113285,
          "end_time": "2021-01-06T07:29:43.210939",
          "exception": false,
          "start_time": "2021-01-06T07:29:43.097654",
          "status": "completed"
        },
        "tags": [],
        "id": "i9K_ULF5KR6i"
      },
      "source": [
        "## Ngrams\n",
        "from nltk.util import ngrams\n",
        "\n",
        "def generate_ngrams(text, n):\n",
        "    words = word_tokenize(text)\n",
        "    return [' '.join(ngram) for ngram in list(get_data(ngrams(words, n))) if not all(w in stop for w in ngram)] # exclude if all are stopwords\n",
        "\n",
        "\n",
        "# in newer versions of python, raising StopIteration exception to end a generator, which is used in ngram, is deprecated\n",
        "def get_data(gen):\n",
        "    try:\n",
        "        for elem in gen:\n",
        "            yield elem\n",
        "    except (RuntimeError, StopIteration):\n",
        "        return"
      ],
      "execution_count": null,
      "outputs": []
    },
    {
      "cell_type": "code",
      "metadata": {
        "execution": {
          "iopub.execute_input": "2021-01-06T07:29:43.466161Z",
          "iopub.status.busy": "2021-01-06T07:29:43.465394Z",
          "iopub.status.idle": "2021-01-06T07:29:45.610255Z",
          "shell.execute_reply": "2021-01-06T07:29:45.609160Z"
        },
        "papermill": {
          "duration": 2.280403,
          "end_time": "2021-01-06T07:29:45.610402",
          "exception": false,
          "start_time": "2021-01-06T07:29:43.329999",
          "status": "completed"
        },
        "tags": [],
        "id": "5b74FJXuKR6i"
      },
      "source": [
        "# Bigrams\n",
        "\n",
        "bigrams_disaster = tweets[tweets.target==1].text.apply(lambda x: generate_ngrams(x, 2))\n",
        "bigrams_ndisaster = tweets[tweets.target==0].text.apply(lambda x: generate_ngrams(x, 2))\n",
        "\n",
        "bigrams_d_dict = {}\n",
        "for bgs in bigrams_disaster:\n",
        "    for bg in bgs:\n",
        "        if bg in bigrams_d_dict:\n",
        "            bigrams_d_dict[bg] += 1\n",
        "        else:\n",
        "            bigrams_d_dict[bg] = 1\n",
        "\n",
        "bigrams_d_df = pd.DataFrame(bigrams_d_dict.items(), columns=['Bigrams','Count'])\n",
        "\n",
        "bigrams_nd_dict = {}\n",
        "for bgs in bigrams_ndisaster:\n",
        "    for bg in bgs:\n",
        "        if bg in bigrams_nd_dict:\n",
        "            bigrams_nd_dict[bg] += 1\n",
        "        else:\n",
        "            bigrams_nd_dict[bg] = 1            \n",
        "\n",
        "bigrams_nd_df = pd.DataFrame(bigrams_nd_dict.items(), columns=['Bigrams','Count'])"
      ],
      "execution_count": null,
      "outputs": []
    },
    {
      "cell_type": "code",
      "metadata": {
        "execution": {
          "iopub.execute_input": "2021-01-06T07:29:45.783499Z",
          "iopub.status.busy": "2021-01-06T07:29:45.782573Z",
          "iopub.status.idle": "2021-01-06T07:29:46.773584Z",
          "shell.execute_reply": "2021-01-06T07:29:46.774579Z"
        },
        "papermill": {
          "duration": 1.085241,
          "end_time": "2021-01-06T07:29:46.774759",
          "exception": false,
          "start_time": "2021-01-06T07:29:45.689518",
          "status": "completed"
        },
        "tags": [],
        "id": "DrFb8VgIKR6i"
      },
      "source": [
        "# Barplots for bigrams\n",
        "\n",
        "plt.figure(figsize=(15,10))\n",
        "plt.subplot(1,2,1)\n",
        "sns.barplot(x='Count',y='Bigrams',data=bigrams_nd_df.sort_values('Count', ascending=False).head(40), color=color[0]).set_title('Most Common Bigrams for Non-Disasters')\n",
        "ax = plt.gca()\n",
        "ax.set_ylabel('')\n",
        "plt.subplot(1,2,2)\n",
        "sns.barplot(x='Count',y='Bigrams',data=bigrams_d_df.sort_values('Count', ascending=False).head(40), color=color[1]).set_title('Most Common Bigrams for Disasters')\n",
        "ax = plt.gca()\n",
        "ax.set_ylabel('')\n",
        "plt.tight_layout()\n",
        "plt.show()"
      ],
      "execution_count": null,
      "outputs": []
    },
    {
      "cell_type": "code",
      "metadata": {
        "execution": {
          "iopub.execute_input": "2021-01-06T07:29:46.959976Z",
          "iopub.status.busy": "2021-01-06T07:29:46.958568Z",
          "iopub.status.idle": "2021-01-06T07:29:47.670436Z",
          "shell.execute_reply": "2021-01-06T07:29:47.670912Z"
        },
        "papermill": {
          "duration": 0.809476,
          "end_time": "2021-01-06T07:29:47.671058",
          "exception": false,
          "start_time": "2021-01-06T07:29:46.861582",
          "status": "completed"
        },
        "tags": [],
        "id": "u-Xii3JxKR6j"
      },
      "source": [
        "# Woudcloud for bigrams\n",
        "\n",
        "plt.figure(figsize=(15,10))\n",
        "plt.subplot(1,2,1)\n",
        "my_cloud = WordCloud(background_color='white', stopwords=stop).generate_from_frequencies(bigrams_nd_dict)\n",
        "plt.imshow(my_cloud, interpolation='bilinear')\n",
        "plt.axis('off')\n",
        "\n",
        "plt.subplot(1,2,2)\n",
        "my_cloud = WordCloud(background_color='white', stopwords=stop).generate_from_frequencies(bigrams_d_dict)\n",
        "plt.imshow(my_cloud, interpolation='bilinear')\n",
        "plt.axis('off')\n",
        "\n",
        "plt.show()"
      ],
      "execution_count": null,
      "outputs": []
    },
    {
      "cell_type": "code",
      "metadata": {
        "execution": {
          "iopub.execute_input": "2021-01-06T07:29:47.855687Z",
          "iopub.status.busy": "2021-01-06T07:29:47.854789Z",
          "iopub.status.idle": "2021-01-06T07:29:50.113570Z",
          "shell.execute_reply": "2021-01-06T07:29:50.112928Z"
        },
        "papermill": {
          "duration": 2.355392,
          "end_time": "2021-01-06T07:29:50.113738",
          "exception": false,
          "start_time": "2021-01-06T07:29:47.758346",
          "status": "completed"
        },
        "tags": [],
        "id": "5LEMWQAwKR6j"
      },
      "source": [
        "# Trigrams\n",
        "\n",
        "trigrams_disaster = tweets[tweets.target==1].text.apply(lambda x: generate_ngrams(x, 3))\n",
        "trigrams_ndisaster = tweets[tweets.target==0].text.apply(lambda x: generate_ngrams(x, 3))\n",
        "\n",
        "trigrams_d_dict = {}\n",
        "for tgs in trigrams_disaster:\n",
        "    for tg in tgs:\n",
        "        if tg in trigrams_d_dict:\n",
        "            trigrams_d_dict[tg] += 1\n",
        "        else:\n",
        "            trigrams_d_dict[tg] = 1\n",
        "\n",
        "trigrams_d_df = pd.DataFrame(trigrams_d_dict.items(), columns=['Trigrams','Count'])\n",
        "\n",
        "trigrams_nd_dict = {}\n",
        "for tgs in trigrams_ndisaster:\n",
        "    for tg in tgs:\n",
        "        if tg in trigrams_nd_dict:\n",
        "            trigrams_nd_dict[tg] += 1\n",
        "        else:\n",
        "            trigrams_nd_dict[tg] = 1            \n",
        "\n",
        "trigrams_nd_df = pd.DataFrame(trigrams_nd_dict.items(), columns=['Trigrams','Count'])"
      ],
      "execution_count": null,
      "outputs": []
    },
    {
      "cell_type": "code",
      "metadata": {
        "execution": {
          "iopub.execute_input": "2021-01-06T07:29:50.319914Z",
          "iopub.status.busy": "2021-01-06T07:29:50.312533Z",
          "iopub.status.idle": "2021-01-06T07:29:51.394818Z",
          "shell.execute_reply": "2021-01-06T07:29:51.395314Z"
        },
        "papermill": {
          "duration": 1.191476,
          "end_time": "2021-01-06T07:29:51.395467",
          "exception": false,
          "start_time": "2021-01-06T07:29:50.203991",
          "status": "completed"
        },
        "tags": [],
        "id": "pzztY4UzKR6j"
      },
      "source": [
        "# Barplots for trigrams\n",
        "\n",
        "plt.figure(figsize=(15,10))\n",
        "plt.subplot(1,2,1)\n",
        "sns.barplot(x='Count',y='Trigrams',data=trigrams_nd_df.sort_values('Count', ascending=False).head(40), color=color[0]).set_title('Most Common Trigrams for Non-Disasters')\n",
        "ax = plt.gca()\n",
        "ax.set_ylabel('')\n",
        "plt.subplot(1,2,2)\n",
        "sns.barplot(x='Count',y='Trigrams',data=trigrams_d_df.sort_values('Count', ascending=False).head(40), color=color[1]).set_title('Most Common Trigrams for Disasters')\n",
        "ax = plt.gca()\n",
        "ax.set_ylabel('')\n",
        "plt.tight_layout()\n",
        "plt.show()"
      ],
      "execution_count": null,
      "outputs": []
    },
    {
      "cell_type": "code",
      "metadata": {
        "execution": {
          "iopub.execute_input": "2021-01-06T07:29:51.653991Z",
          "iopub.status.busy": "2021-01-06T07:29:51.633473Z",
          "iopub.status.idle": "2021-01-06T07:29:53.228717Z",
          "shell.execute_reply": "2021-01-06T07:29:53.228055Z"
        },
        "papermill": {
          "duration": 1.719656,
          "end_time": "2021-01-06T07:29:53.228840",
          "exception": false,
          "start_time": "2021-01-06T07:29:51.509184",
          "status": "completed"
        },
        "tags": [],
        "id": "hmRy8lFVKR6k"
      },
      "source": [
        "## Remove Stopwords\n",
        "def remove_stopwords(text):\n",
        "    word_tokens = word_tokenize(text)\n",
        "    return ' '.join([w.lower() for w in word_tokens if not w.lower() in stop])\n",
        "\n",
        "#tweets_tmp = tweets.copy()\n",
        "tweets['text_nostopwords'] = tweets.text.apply(lambda x: remove_stopwords(x))\n"
      ],
      "execution_count": null,
      "outputs": []
    },
    {
      "cell_type": "markdown",
      "metadata": {
        "papermill": {
          "duration": 0.091683,
          "end_time": "2021-01-06T07:29:53.421240",
          "exception": false,
          "start_time": "2021-01-06T07:29:53.329557",
          "status": "completed"
        },
        "tags": [],
        "id": "umyE2RfpKR6k"
      },
      "source": [
        "<a id='WC_Cleaned'></a>\n",
        "## 4.1. WordCloud of Most Common Words after Cleaning\n",
        "\n",
        "Removed some words such as 'new', 'like' and 'people' as they are common between both targets"
      ]
    },
    {
      "cell_type": "code",
      "metadata": {
        "execution": {
          "iopub.execute_input": "2021-01-06T07:29:53.739300Z",
          "iopub.status.busy": "2021-01-06T07:29:53.738355Z",
          "iopub.status.idle": "2021-01-06T07:29:55.720507Z",
          "shell.execute_reply": "2021-01-06T07:29:55.720980Z"
        },
        "papermill": {
          "duration": 2.169674,
          "end_time": "2021-01-06T07:29:55.721130",
          "exception": false,
          "start_time": "2021-01-06T07:29:53.551456",
          "status": "completed"
        },
        "tags": [],
        "id": "g6PZJJuQKR6k"
      },
      "source": [
        "## Plot word cloud for most common words after cleaning\n",
        "\n",
        "from PIL import Image\n",
        "mask = np.array(Image.open('../input/twitter-logo/Twitter-Logo_white.png'))\n",
        "reverse = mask[...,::-1,:]\n",
        "\n",
        "def wc_words(target, mask=mask):\n",
        "    words = [word.lower() for tweet in tweets[tweets.target == target].text_nostopwords for word in tweet.split()]\n",
        "    words = list(filter(lambda w: w != 'like', words))\n",
        "    words = list(filter(lambda w: w != 'new', words))\n",
        "    words = list(filter(lambda w: w != 'people', words))\n",
        "    dict = {}\n",
        "    for w in words:\n",
        "        if w in dict:\n",
        "            dict[w] += 1\n",
        "        else:\n",
        "            dict[w] = 1\n",
        "    # plot using frequencies        \n",
        "    my_cloud = WordCloud(background_color='white', stopwords=stop, mask=mask, random_state=0).generate_from_frequencies(dict) \n",
        "    \n",
        "    plt.subplot(1,2,target+1)\n",
        "    plt.imshow(my_cloud, interpolation='bilinear') \n",
        "    plt.axis(\"off\")\n",
        "\n",
        "plt.figure(figsize=(15,10))\n",
        "wc_words(0)\n",
        "plt.title('Non-Disaster')\n",
        "wc_words(1, reverse)\n",
        "plt.title('Disaster')\n",
        "plt.show()"
      ],
      "execution_count": null,
      "outputs": []
    },
    {
      "cell_type": "code",
      "metadata": {
        "execution": {
          "iopub.execute_input": "2021-01-06T07:29:55.931458Z",
          "iopub.status.busy": "2021-01-06T07:29:55.930446Z",
          "iopub.status.idle": "2021-01-06T07:29:55.936764Z",
          "shell.execute_reply": "2021-01-06T07:29:55.937998Z"
        },
        "papermill": {
          "duration": 0.11846,
          "end_time": "2021-01-06T07:29:55.938309",
          "exception": false,
          "start_time": "2021-01-06T07:29:55.819849",
          "status": "completed"
        },
        "tags": [],
        "id": "2Fd7YNzRKR6k"
      },
      "source": [
        "pd.options.display.max_colwidth = 200\n",
        "for t in tweets['text'].sample(n=20, random_state=0):\n",
        "    print(t)\n",
        "pd.reset_option('max_colwidth')"
      ],
      "execution_count": null,
      "outputs": []
    },
    {
      "cell_type": "code",
      "metadata": {
        "execution": {
          "iopub.execute_input": "2021-01-06T07:29:56.153624Z",
          "iopub.status.busy": "2021-01-06T07:29:56.152760Z",
          "iopub.status.idle": "2021-01-06T07:29:56.159250Z",
          "shell.execute_reply": "2021-01-06T07:29:56.158734Z"
        },
        "papermill": {
          "duration": 0.122021,
          "end_time": "2021-01-06T07:29:56.159361",
          "exception": false,
          "start_time": "2021-01-06T07:29:56.037340",
          "status": "completed"
        },
        "tags": [],
        "id": "SGvnQ_UyKR6k"
      },
      "source": [
        "pd.reset_option('max_colwidth')\n",
        "tweets.drop('text_nostopwords', axis=1, inplace=True)\n",
        "tweets.head()"
      ],
      "execution_count": null,
      "outputs": []
    },
    {
      "cell_type": "markdown",
      "metadata": {
        "papermill": {
          "duration": 0.09642,
          "end_time": "2021-01-06T07:29:56.357221",
          "exception": false,
          "start_time": "2021-01-06T07:29:56.260801",
          "status": "completed"
        },
        "tags": [],
        "id": "TD9F7Db4KR6k"
      },
      "source": [
        "<a id='TrainValSplit'></a>\n",
        "# 5. Train Validation Data Split\n"
      ]
    },
    {
      "cell_type": "code",
      "metadata": {
        "execution": {
          "iopub.execute_input": "2021-01-06T07:29:56.583181Z",
          "iopub.status.busy": "2021-01-06T07:29:56.572978Z",
          "iopub.status.idle": "2021-01-06T07:29:56.620998Z",
          "shell.execute_reply": "2021-01-06T07:29:56.621808Z"
        },
        "papermill": {
          "duration": 0.167617,
          "end_time": "2021-01-06T07:29:56.622004",
          "exception": false,
          "start_time": "2021-01-06T07:29:56.454387",
          "status": "completed"
        },
        "tags": [],
        "id": "0epwoK-ZKR6l"
      },
      "source": [
        "from sklearn.model_selection import train_test_split\n",
        "X_train, X_val, y_train, y_val = train_test_split(tweets.drop(['id','keyword','location','target'],axis=1), tweets[['target']], test_size=0.2, stratify=tweets[['target']], random_state=0)\n",
        "X_train_text = X_train['text']\n",
        "X_val_text = X_val['text']\n",
        "\n",
        "print('X_train shape: ', X_train.shape)\n",
        "print('X_val shape: ', X_val.shape)\n",
        "print('y_train shape: ', y_train.shape)\n",
        "print('y_val shape: ', y_val.shape)"
      ],
      "execution_count": null,
      "outputs": []
    },
    {
      "cell_type": "code",
      "metadata": {
        "execution": {
          "iopub.execute_input": "2021-01-06T07:29:56.825839Z",
          "iopub.status.busy": "2021-01-06T07:29:56.824363Z",
          "iopub.status.idle": "2021-01-06T07:29:56.832374Z",
          "shell.execute_reply": "2021-01-06T07:29:56.832868Z"
        },
        "papermill": {
          "duration": 0.112797,
          "end_time": "2021-01-06T07:29:56.833037",
          "exception": false,
          "start_time": "2021-01-06T07:29:56.720240",
          "status": "completed"
        },
        "tags": [],
        "id": "Leh90lglKR6l"
      },
      "source": [
        "print('Train Class Proportion:\\n', y_train['target'].value_counts() / len(y_train) * 100)\n",
        "print('\\nValidation Class Proportion:\\n', y_val['target'].value_counts() / len(y_val) * 100)"
      ],
      "execution_count": null,
      "outputs": []
    },
    {
      "cell_type": "markdown",
      "metadata": {
        "papermill": {
          "duration": 0.097367,
          "end_time": "2021-01-06T07:29:57.027791",
          "exception": false,
          "start_time": "2021-01-06T07:29:56.930424",
          "status": "completed"
        },
        "tags": [],
        "id": "HA5tMPe8KR6l"
      },
      "source": [
        "<a id='Embedding'></a>\n",
        "# 6. Embedding Layer\n",
        "\n",
        "### Word Representation\n",
        "\n",
        "Word representation refers to representing words as numbers so that a computer can understand it. One way to represent words is to use a one-hot representation (bottom left), where each word in a corpus/dictionary is a vector of all 0s except the index which it is assigned to. For example, in a 10,000 word dictionary, `a` is usually the first word and so is given a vector of [1,0,0,0,...,0], `aaron` is a vector of [0,1,0,0,...,0] and `zulu`, which might be the last word, is a vector of [0,0,0,0,...,1], all with a shape of (10000, 1). However, this way of representing words have a major weakness — ***it treats each word as onto itself, so it does not generalize across words.*** For example, the relationship between `apple` and `orange` is not any closer than the relationship between `apple` and `king`. The inner product or Euclidean distance between any 2 words will be 0. Therefore, all word pairs will have a dissimilarity (Euclidean Distance) of 0.\n",
        "<br><br>\n",
        "\n",
        "<img src = 'https://bn1301files.storage.live.com/y4mS1q2-u6bjSL9LZ317bVz57HUlCnt3l3du9-iVCE8GiUrMMM4YAuxWQ12iHTImvYXvnLJgCKWZFE7kiurFmRX7jMUINieWGPGLeP9rtszv3GlaEwvhWiDXo3wfS7tC-semwXswn3QOlKZi1Ddsz9VRS9YABa_6lugTftLC_ZLOfv77igv55y_E_3Lq5AgqFus?width=3676&height=1378&cropmode=none' width=800> \n",
        "<br>\n",
        "\n",
        "### Word Embeddings\n",
        "\n",
        "A better way to represent words is using word embeddings, which can be learned from large corpuses of texts, such as Wikipedia. It is a dense way, compared to the sparse way for word representation, of representing words as well as the relationships between them. A word embedding is a learned representation for text where words that have the **same meaning have a similar representation**. For example, as shown above in the right table, `apple` and `orange` have similar vector values (their euclidean distance is very small) compared to `apple` and `king`. Another way to compare two words is using **cosine similarity**. \n",
        "\n",
        "Each row of the matrix represents a **feature/dimension**, such as `gender` or `food` that are attributes of the words. Words that are highly attributed to the feature are given high positive and negative values, while words with no such attributes are given values close to 0s. If we take the vector difference between `man` and `woman`, or `king` and `queen`, both will give a vector close to [-2,0,0,...,0], indicating that each of the pair of words differ highly according to the `gender` attribute. In practice, the features/dimensions that are learned for word embeddings are more abstract, and sometimes it might not be intuitive as to what attributes they represent, and they might be a combination of different attributes.\n",
        "\n",
        "Word embeddings can be trained from scratch. Some of the most popular ways include [Word2Vec](http://jalammar.github.io/illustrated-word2vec/), [NegativeSampling](http://jalammar.github.io/illustrated-word2vec/), and [GloVe (Global vectors for word representation)](https://towardsdatascience.com/light-on-math-ml-intuitive-guide-to-understanding-glove-embeddings-b13b4f19c010). A pre-trained word embedding can also be downloaded and used.\n",
        "\n",
        "The graph below shows a simple RNN model for a *many-to-one* classification problem, such as tweet disaster classification or sentiment analysis, with the input words fed into the embedding layer. For each word, its vector representation (`e`) is obtained from the embedding matrix (`E`), and is then fed into the hidden layers.\n",
        "<br><br>\n",
        "\n",
        "<img align=left src = 'https://bn1301files.storage.live.com/y4mkNjcljwqSA1Sb6vCIb8YMk8i5mcl-ViArevkMz6kqZVvbi8fW0lJFPwAprRt5DBN3YamG_ooLd_dRT85rIEinIHrPUTcdxLeBHuxLAYmfpxdDT6Hajvhrqmevt1C_XtXMWQnEe1z2-fouUj760K41kfVH2vbzBOr8JNZYWCNte-xVWHuBSFxGCrzTM7bumTs?width=3368&height=1448&cropmode=none' width=800> \n",
        "\n",
        "<br>\n"
      ]
    },
    {
      "cell_type": "markdown",
      "metadata": {
        "papermill": {
          "duration": 0.09787,
          "end_time": "2021-01-06T07:29:57.223894",
          "exception": false,
          "start_time": "2021-01-06T07:29:57.126024",
          "status": "completed"
        },
        "tags": [],
        "id": "lW6pcihoKR6l"
      },
      "source": [
        "<a id='Tokenization'></a>\n",
        "## 6.1. Tokenization"
      ]
    },
    {
      "cell_type": "markdown",
      "metadata": {
        "papermill": {
          "duration": 0.096896,
          "end_time": "2021-01-06T07:29:57.422991",
          "exception": false,
          "start_time": "2021-01-06T07:29:57.326095",
          "status": "completed"
        },
        "tags": [],
        "id": "mk5LpuxrKR6l"
      },
      "source": [
        "To feed the tweets into the model, first we need to split them up. Here we **tokenize** the sentences -- break them up into words and assign them an integer based on the vocabulary dictionary. The maximum vocabulary size is set to 5000, so only the most common `num_words`-1 words will be kept. `oov_token` is set to `<UNK>` so that out-of-vocabulary words will be given an index instead of being ignored during `text_to_sequence` call.\n",
        "\n",
        "Use `fit_on_texts` to create a word-to-index vocabulary dictionary based on the train texts. This creates the vocabulary index based on word frequency, with words that appear more often at the top of the vocabulary.\n",
        "\n",
        "`texts_to_sequences` transforms each text in texts to a sequence of integers."
      ]
    },
    {
      "cell_type": "code",
      "metadata": {
        "execution": {
          "iopub.execute_input": "2021-01-06T07:29:57.624429Z",
          "iopub.status.busy": "2021-01-06T07:29:57.623561Z",
          "iopub.status.idle": "2021-01-06T07:30:02.155662Z",
          "shell.execute_reply": "2021-01-06T07:30:02.154975Z"
        },
        "papermill": {
          "duration": 4.634272,
          "end_time": "2021-01-06T07:30:02.155773",
          "exception": false,
          "start_time": "2021-01-06T07:29:57.521501",
          "status": "completed"
        },
        "tags": [],
        "id": "B8NhxeRAKR6l"
      },
      "source": [
        "from keras.preprocessing.text import Tokenizer\n",
        "from keras.preprocessing.sequence import pad_sequences\n",
        "\n",
        "tokenizer_1 = Tokenizer(num_words=5000, oov_token='<UNK>')\n",
        "tokenizer_1.fit_on_texts(X_train_text)"
      ],
      "execution_count": null,
      "outputs": []
    },
    {
      "cell_type": "code",
      "metadata": {
        "execution": {
          "iopub.execute_input": "2021-01-06T07:30:02.396520Z",
          "iopub.status.busy": "2021-01-06T07:30:02.386329Z",
          "iopub.status.idle": "2021-01-06T07:30:02.509056Z",
          "shell.execute_reply": "2021-01-06T07:30:02.509708Z"
        },
        "papermill": {
          "duration": 0.250737,
          "end_time": "2021-01-06T07:30:02.509878",
          "exception": false,
          "start_time": "2021-01-06T07:30:02.259141",
          "status": "completed"
        },
        "tags": [],
        "id": "DrmPU6CkKR6l"
      },
      "source": [
        "X_train_text = tokenizer_1.texts_to_sequences(X_train_text)\n",
        "X_val_text = tokenizer_1.texts_to_sequences(X_val_text)\n",
        "print(X_train_text[:10])\n",
        "print('')\n",
        "print(X_val_text[:10])"
      ],
      "execution_count": null,
      "outputs": []
    },
    {
      "cell_type": "markdown",
      "metadata": {
        "papermill": {
          "duration": 0.098612,
          "end_time": "2021-01-06T07:30:02.708058",
          "exception": false,
          "start_time": "2021-01-06T07:30:02.609446",
          "status": "completed"
        },
        "tags": [],
        "id": "nRnaMVWqKR6m"
      },
      "source": [
        "Each list in the `X_train_text` and `X_val_text` is a list of integers, which corresponds to each tweets in the train and validation set respectively. The length of each list is also different as different tweets have different lengths. Therefore, we will need to apply **padding** to make all sequences the same length.\n",
        "\n",
        "We can use `tokenizer.word_index` to look at the vocabulary dictionary and `sequences_to_texts` to transform sequences back into texts. Note that words that are not in the vocabulary are now `<UNK>`.\n",
        "\n",
        "\n",
        "**Note:** The Tokenizer stores everything in the `word_index` during `fit_on_texts`. Then, when calling the `texts_to_sequences` method, only the top `num_words` are considered. So `word_index` will actually contain more words than `num_words`."
      ]
    },
    {
      "cell_type": "code",
      "metadata": {
        "execution": {
          "iopub.execute_input": "2021-01-06T07:30:02.908747Z",
          "iopub.status.busy": "2021-01-06T07:30:02.907909Z",
          "iopub.status.idle": "2021-01-06T07:30:02.911259Z",
          "shell.execute_reply": "2021-01-06T07:30:02.911780Z"
        },
        "papermill": {
          "duration": 0.106259,
          "end_time": "2021-01-06T07:30:02.911900",
          "exception": false,
          "start_time": "2021-01-06T07:30:02.805641",
          "status": "completed"
        },
        "tags": [],
        "id": "lp12z_LtKR6m"
      },
      "source": [
        "tokenizer_1.sequences_to_texts([X_train_text[1]])"
      ],
      "execution_count": null,
      "outputs": []
    },
    {
      "cell_type": "markdown",
      "metadata": {
        "papermill": {
          "duration": 0.098868,
          "end_time": "2021-01-06T07:30:03.110152",
          "exception": false,
          "start_time": "2021-01-06T07:30:03.011284",
          "status": "completed"
        },
        "tags": [],
        "id": "LiLMHAnYKR6m"
      },
      "source": [
        "<a id='Padding'></a>\n",
        "## 6.2. Padding\n",
        "\n",
        "After tokenization, each tweet is represented as a list of tokens. Next, we need to **pad** all lists to the same size, so we can represent the input as one 2-d array, rather than a list of lists (of different lengths). Do this by adding 0s to the end of each sentence in the tokenized form so that each sentence is *now the same length as the longest tweet*. \n",
        "\n",
        "The max length for the train set tweets is 32. We will set the `maxlen` to be 50 as tweets from the validation or test set might be longer. This means that texts longer than 50 words will be truncated to the 1st 50 words while texts shorter than 50 will have 0s appended to make them of length 50.\n",
        "\n",
        "Below shows a quick example of padding sentences to a length of 5 sequences.\n",
        "\n",
        "<br>\n",
        "\n",
        "<img src = 'https://bn1301files.storage.live.com/y4ma9N0t0Cjf_JcFdIj5J6W47lKDiMsXBwUwg5KXo6hUlH9PrpNv5b067TNxP7NFrtk1nbM8fxn5HXFs4rOLJ1QZK1omFFHB5Bl-jsoX5T4bZKJ3I76JwZazSPvquBb0aVem8MGLIP2CT8AsnRW1EOeMExc4w1AkzmfJ_p1oNRv506yRZEUEVlbtY780CnoAadD?width=4342&height=494&cropmode=none' width=700 align=left>"
      ]
    },
    {
      "cell_type": "code",
      "metadata": {
        "execution": {
          "iopub.execute_input": "2021-01-06T07:30:03.323143Z",
          "iopub.status.busy": "2021-01-06T07:30:03.322312Z",
          "iopub.status.idle": "2021-01-06T07:30:03.387454Z",
          "shell.execute_reply": "2021-01-06T07:30:03.388154Z"
        },
        "papermill": {
          "duration": 0.178384,
          "end_time": "2021-01-06T07:30:03.388317",
          "exception": false,
          "start_time": "2021-01-06T07:30:03.209933",
          "status": "completed"
        },
        "tags": [],
        "id": "HHZdAituKR6m"
      },
      "source": [
        "print('Train Set Max Length:', max(len(text) for text in X_train_text))\n",
        "maxlen = 50\n",
        "\n",
        "X_train_text = pad_sequences(X_train_text, padding='post', maxlen=maxlen)\n",
        "X_val_text = pad_sequences(X_val_text, padding='post', maxlen=maxlen)\n",
        "\n",
        "print('X_train shape:', X_train_text.shape)\n",
        "print('X_train shape:', X_val_text.shape)"
      ],
      "execution_count": null,
      "outputs": []
    },
    {
      "cell_type": "markdown",
      "metadata": {
        "papermill": {
          "duration": 0.098212,
          "end_time": "2021-01-06T07:30:03.586326",
          "exception": false,
          "start_time": "2021-01-06T07:30:03.488114",
          "status": "completed"
        },
        "tags": [],
        "id": "3q8NIfRaKR6m"
      },
      "source": [
        "<a id='E_Matrix'></a>\n",
        "## 6.3. Embedding Matrix – GloVe\n",
        "\n",
        "We will use the [GloVe embeddings](https://nlp.stanford.edu/projects/glove/) that were pre-trained on 2 billion tweets to create our feature matrix. First, we will create a dictionary that will contain words as keys and their corresponding embedding list at values. The length of the embedding for each word will be 200, as the GloVe embedding we are using was trained to have 200 dimensions. Refer to [here](https://github.com/stanfordnlp/GloVe) also for more details.\n",
        "\n"
      ]
    },
    {
      "cell_type": "code",
      "metadata": {
        "execution": {
          "iopub.execute_input": "2021-01-06T07:30:03.790477Z",
          "iopub.status.busy": "2021-01-06T07:30:03.789821Z",
          "iopub.status.idle": "2021-01-06T07:32:00.058153Z",
          "shell.execute_reply": "2021-01-06T07:32:00.058757Z"
        },
        "papermill": {
          "duration": 116.373888,
          "end_time": "2021-01-06T07:32:00.058924",
          "exception": false,
          "start_time": "2021-01-06T07:30:03.685036",
          "status": "completed"
        },
        "tags": [],
        "id": "cO69iEw6KR6m"
      },
      "source": [
        "# Adding 1 because of reserved 0 index\n",
        "vocab_size = len(tokenizer_1.word_index) + 1\n",
        "\n",
        "# load the whole embedding into memory\n",
        "embeddings_index = dict()\n",
        "f = open('../input/glove-global-vectors-for-word-representation/glove.twitter.27B.200d.txt')\n",
        "\n",
        "for line in f:\n",
        "    values = line.split()\n",
        "    word = values[0]\n",
        "    coefs = np.asarray(values[1:], dtype='float32')\n",
        "    embeddings_index[word] = coefs\n",
        "\n",
        "f.close()\n",
        "print('Loaded %s word vectors.' % len(embeddings_index))"
      ],
      "execution_count": null,
      "outputs": []
    },
    {
      "cell_type": "markdown",
      "metadata": {
        "papermill": {
          "duration": 0.102589,
          "end_time": "2021-01-06T07:32:00.261341",
          "exception": false,
          "start_time": "2021-01-06T07:32:00.158752",
          "status": "completed"
        },
        "tags": [],
        "id": "df592cWBKR6m"
      },
      "source": [
        "Next we will create an embedding matrix for our train vocab/corpus where each row number will correspond to the index of the word in our train vocab/corpus. The matrix will have 200 columns, each containing one of the GloVe feature/dimension."
      ]
    },
    {
      "cell_type": "code",
      "metadata": {
        "execution": {
          "iopub.execute_input": "2021-01-06T07:32:00.466479Z",
          "iopub.status.busy": "2021-01-06T07:32:00.465618Z",
          "iopub.status.idle": "2021-01-06T07:32:00.511428Z",
          "shell.execute_reply": "2021-01-06T07:32:00.510870Z"
        },
        "papermill": {
          "duration": 0.150613,
          "end_time": "2021-01-06T07:32:00.511538",
          "exception": false,
          "start_time": "2021-01-06T07:32:00.360925",
          "status": "completed"
        },
        "tags": [],
        "id": "DKBkkyrKKR6n"
      },
      "source": [
        "# create a weight matrix for words in training set\n",
        "embedding_matrix = np.zeros((vocab_size, 200))\n",
        "\n",
        "for word, i in tokenizer_1.word_index.items():\n",
        "    embedding_vector = embeddings_index.get(word)\n",
        "    if embedding_vector is not None:\n",
        "        embedding_matrix[i] = embedding_vector\n",
        "        \n",
        "print('Embedding Matrix Shape:', embedding_matrix.shape)"
      ],
      "execution_count": null,
      "outputs": []
    },
    {
      "cell_type": "markdown",
      "metadata": {
        "papermill": {
          "duration": 0.099966,
          "end_time": "2021-01-06T07:32:00.723494",
          "exception": false,
          "start_time": "2021-01-06T07:32:00.623528",
          "status": "completed"
        },
        "tags": [],
        "id": "yeo-hOKxKR6n"
      },
      "source": [
        "<a id='Model_Build'></a>\n",
        "# 7. Model Building & Training\n",
        "\n",
        "<a id='LSTM'></a>\n",
        "## 7.1. Long Short-Term Memory (LSTM)\n",
        "\n",
        "[Long Short-Term Memory (LSTM)](https://www.mitpressjournals.org/doi/abs/10.1162/neco.1997.9.8.1735) models are a type of recurrent neural network that allows for longer range dependencies, unlike traditional feed-forward RNNs. It has a few advantages:\n",
        "\n",
        "1. Longer range dependence\n",
        "2. Selectively remember or forget things\n",
        "3. Get around exploding and vanishing gradients\n",
        "\n",
        "LSTMs have a few dependencies. Imagine that we are predicting whether it will rain today. This depends on several information:\n",
        "\n",
        "1. The trend of the previous few days, such as many days with rain, or a very heavy downpour (the previous cell state)\n",
        "2. Information from the previous day, such as temperature, wind level (previous hidden state)\n",
        "3. Information from today (input at current time step)\n",
        "\n",
        "To decide whether or not to use these information, LSTMs contain different memory blocks called **cells**, which are responsible for remembering which information are important to use and which to discard. Manipulations or changes to this memory is done through **gates**. \n",
        "\n",
        "1. The **forget gate** is responsible for removing memories from the cell state. From the figure and equations below, it takes inputs from the previous hidden state, `a` and current input `x`, and applies a sigmoid function to decide whether to keep the information or not. \n",
        "2. The **input gate** consists of the **update gate** and the **tanh** function. The process of adding new information to the memory cell is done through this gate. The **update gate** decides which information to be added through a sigmoid function (similar to the forget gate), and the tanh function creates the information to be added. The two outputs are then multiplied together and added to the memory cell.\n",
        "3. The **output gate** selects useful information from the current cell state and outputs it. First, it creates a vector after applying **tanh** to the memory cell, then makes a filter using sigmoid function to regulate the information that needs to be used from the previous vector, and multiply them together, thus creating the output and also the hidden state to the next cell.\n",
        "\n",
        "\n",
        "\n",
        "<img src='https://bn1301files.storage.live.com/y4moAJV3tGM4StMGVxvRmKYHz14V8F5X2aC0T4WaJdO1M_9QAPti5-3hx69bd-KJRsASCCdYErxqDL9PeNoDkFRFCwJnzpnR3e9w24NFJoOCMj3h_7jG90QjADEDje9hXVGM4sg8ltWrcbi2vz8pCLVBYsCTAQchMBn-JRTsX5ArSXY2r8ah54G_SVTJD9oJQOA?width=1711&height=623&cropmode=none' width=1000>"
      ]
    },
    {
      "cell_type": "code",
      "metadata": {
        "execution": {
          "iopub.execute_input": "2021-01-06T07:32:00.931383Z",
          "iopub.status.busy": "2021-01-06T07:32:00.929920Z",
          "iopub.status.idle": "2021-01-06T07:32:00.933588Z",
          "shell.execute_reply": "2021-01-06T07:32:00.934036Z"
        },
        "papermill": {
          "duration": 0.111222,
          "end_time": "2021-01-06T07:32:00.934164",
          "exception": false,
          "start_time": "2021-01-06T07:32:00.822942",
          "status": "completed"
        },
        "tags": [],
        "id": "7n440IqrKR6n"
      },
      "source": [
        "## Hyperparameters\n",
        "num_epochs=15\n",
        "dropout=0.2\n",
        "recurrent_dropout=0.2\n",
        "lr=0.0005\n",
        "batch_size=128\n",
        "class_weight = {0: y_train['target'].value_counts()[1]/len(y_train), 1: y_train['target'].value_counts()[0]/len(y_train)} "
      ],
      "execution_count": null,
      "outputs": []
    },
    {
      "cell_type": "markdown",
      "metadata": {
        "papermill": {
          "duration": 0.099921,
          "end_time": "2021-01-06T07:32:01.134748",
          "exception": false,
          "start_time": "2021-01-06T07:32:01.034827",
          "status": "completed"
        },
        "tags": [],
        "id": "bXqRBQTAKR6n"
      },
      "source": [
        "We will use dropout and recurrent dropout to add regularization to the model, which can help with overfitting. Regular dropout works in the vertical direction of the RNN, while recurrent dropout masks the connections between the recurrent units (horizontal direction). Refer to this [post](https://stackoverflow.com/questions/44924690/keras-the-difference-between-lstm-dropout-and-lstm-recurrent-dropout) for more information.\n",
        "\n",
        "A class weight will also be used. Without it, the model makes a lot more false negatives than false positives. The weighting for the minority class (`disaster`) will be given more weighting, meaning that it will be given more contribution  to the loss computation. This is taken as `(total samples-samples of class) / total samples`."
      ]
    },
    {
      "cell_type": "code",
      "metadata": {
        "execution": {
          "iopub.execute_input": "2021-01-06T07:32:01.351931Z",
          "iopub.status.busy": "2021-01-06T07:32:01.351323Z",
          "iopub.status.idle": "2021-01-06T07:32:04.616036Z",
          "shell.execute_reply": "2021-01-06T07:32:04.615259Z"
        },
        "papermill": {
          "duration": 3.380045,
          "end_time": "2021-01-06T07:32:04.616163",
          "exception": false,
          "start_time": "2021-01-06T07:32:01.236118",
          "status": "completed"
        },
        "tags": [],
        "id": "LYlnML7TKR6n"
      },
      "source": [
        "from keras.models import Sequential\n",
        "from keras.layers.core import Activation, Dropout, Dense\n",
        "from keras.layers import Flatten, GlobalMaxPooling1D, LSTM\n",
        "from keras.layers.embeddings import Embedding\n",
        "from keras import optimizers\n",
        "from keras.callbacks import ModelCheckpoint\n",
        "\n",
        "lstm_model = Sequential()\n",
        "embedding_layer = Embedding(vocab_size, 200, weights=[embedding_matrix], input_length=maxlen, trainable=False)\n",
        "lstm_model.add(embedding_layer)\n",
        "lstm_model.add(LSTM(128, return_sequences=True, dropout=dropout, recurrent_dropout=recurrent_dropout)) # try adding dropout later\n",
        "lstm_model.add(LSTM(128))\n",
        "\n",
        "#model.add(Flatten())\n",
        "lstm_model.add(Dense(1, activation='sigmoid'))\n",
        "\n",
        "adam = optimizers.Adam(lr=lr)\n",
        "lstm_model.compile(optimizer=adam, loss='binary_crossentropy', metrics=['acc'])\n",
        "print(lstm_model.summary())\n",
        "\n",
        "# best hyperparameters\n",
        "# num_epochs=15\n",
        "# dropout=0.2\n",
        "# recurrent_dropout=0.2\n",
        "# lr=0.0005\n",
        "# batch_size=128"
      ],
      "execution_count": null,
      "outputs": []
    },
    {
      "cell_type": "code",
      "metadata": {
        "execution": {
          "iopub.execute_input": "2021-01-06T07:32:04.839454Z",
          "iopub.status.busy": "2021-01-06T07:32:04.837597Z",
          "iopub.status.idle": "2021-01-06T07:32:04.840105Z",
          "shell.execute_reply": "2021-01-06T07:32:04.840570Z"
        },
        "papermill": {
          "duration": 0.122536,
          "end_time": "2021-01-06T07:32:04.840690",
          "exception": false,
          "start_time": "2021-01-06T07:32:04.718154",
          "status": "completed"
        },
        "tags": [],
        "id": "WgnRnmsnKR6n"
      },
      "source": [
        "def plot_model_performance(history):   \n",
        "    plt.figure(figsize=(15,5))\n",
        "    plt.plot(range(num_epochs), history.history['acc'],'-o',\n",
        "             label='Train ACC',color='#ff7f0e')\n",
        "    plt.plot(range(num_epochs),history.history['val_acc'],'-o',\n",
        "             label='Val ACC',color='#1f77b4')\n",
        "    x = np.argmax( history.history['val_acc'] ); y = np.max( history.history['val_acc'] )\n",
        "    xdist = plt.xlim()[1] - plt.xlim()[0]; ydist = plt.ylim()[1] - plt.ylim()[0]\n",
        "    plt.scatter(x,y,s=200,color='#1f77b4')\n",
        "    plt.text(x-0.03*xdist,y-0.13*ydist,'max acc\\n%.2f'%y,size=14)\n",
        "    plt.ylabel('Accuracy',size=14); plt.xlabel('Epoch',size=14)\n",
        "    plt.legend(loc=(0.01,0.75))\n",
        "\n",
        "    plt2 = plt.gca().twinx()\n",
        "    plt2.plot(range(num_epochs),history.history['loss'],'-o',\n",
        "              label='Train Loss',color='#2ca02c')\n",
        "    plt2.plot(range(num_epochs),history.history['val_loss'],'-o',\n",
        "              label='Val Loss',color='#d62728')\n",
        "    x = np.argmin( history.history['val_loss'] ); y = np.min( history.history['val_loss'] )\n",
        "    ydist = plt.ylim()[1] - plt.ylim()[0]\n",
        "    plt.scatter(x,y,s=200,color='#d62728')\n",
        "    plt.text(x-0.03*xdist,y+0.05*ydist,'min loss',size=14)\n",
        "   # plt.ylim([-0.2, 2])\n",
        "    plt.ylabel('Loss',size=14)\n",
        "    plt.xticks(ticks=list(range(num_epochs)),labels=list(range(1, num_epochs+1)))\n",
        "    plt.legend(loc='lower left', bbox_to_anchor=(0.01, 0.1))\n",
        "    plt.show()"
      ],
      "execution_count": null,
      "outputs": []
    },
    {
      "cell_type": "code",
      "metadata": {
        "execution": {
          "iopub.execute_input": "2021-01-06T07:32:05.051962Z",
          "iopub.status.busy": "2021-01-06T07:32:05.051360Z",
          "iopub.status.idle": "2021-01-06T07:34:32.633584Z",
          "shell.execute_reply": "2021-01-06T07:34:32.632979Z"
        },
        "papermill": {
          "duration": 147.691632,
          "end_time": "2021-01-06T07:34:32.633719",
          "exception": false,
          "start_time": "2021-01-06T07:32:04.942087",
          "status": "completed"
        },
        "tags": [],
        "id": "GbtxiHouKR6o"
      },
      "source": [
        "checkpoint = ModelCheckpoint('lstm_model.h5', monitor='val_acc', save_best_only=True)\n",
        "history = lstm_model.fit(X_train_text, y_train, batch_size=batch_size, callbacks=[checkpoint], epochs=num_epochs, \n",
        "                         class_weight=class_weight, validation_data=(X_val_text, y_val), verbose=1)\n",
        "plot_model_performance(history)"
      ],
      "execution_count": null,
      "outputs": []
    },
    {
      "cell_type": "markdown",
      "metadata": {
        "papermill": {
          "duration": 0.356272,
          "end_time": "2021-01-06T07:34:33.341269",
          "exception": false,
          "start_time": "2021-01-06T07:34:32.984997",
          "status": "completed"
        },
        "tags": [],
        "id": "Moope7byKR6o"
      },
      "source": [
        "One thing to note is that when using **class weights** for **class imbalance**, the validation loss is consistently higher than the train loss, but this doesn't happen when `class_weight` is turned off. I am not sure what is happening here. Please let me know if anyone has any ideas!"
      ]
    },
    {
      "cell_type": "code",
      "metadata": {
        "execution": {
          "iopub.execute_input": "2021-01-06T07:34:34.063722Z",
          "iopub.status.busy": "2021-01-06T07:34:34.062842Z",
          "iopub.status.idle": "2021-01-06T07:34:34.066097Z",
          "shell.execute_reply": "2021-01-06T07:34:34.065575Z"
        },
        "papermill": {
          "duration": 0.363537,
          "end_time": "2021-01-06T07:34:34.066202",
          "exception": false,
          "start_time": "2021-01-06T07:34:33.702665",
          "status": "completed"
        },
        "tags": [],
        "id": "J6614_1rKR6o"
      },
      "source": [
        "# from keras.models import Sequential\n",
        "# from keras.layers.core import Activation, Dropout, Dense\n",
        "# from keras.layers import Flatten, GlobalMaxPooling1D, LSTM, Bidirectional\n",
        "# from keras.layers.embeddings import Embedding\n",
        "# from keras import optimizers\n",
        "\n",
        "# model = Sequential()\n",
        "# embedding_layer = Embedding(vocab_size, 200, weights=[embedding_matrix], input_length=maxlen, trainable=False)\n",
        "# model.add(embedding_layer)\n",
        "# model.add(Bidirectional(LSTM(128, return_sequences=True, dropout=dropout, recurrent_dropout=recurrent_dropout))) # try adding dropout later\n",
        "# model.add(Bidirectional(LSTM(128)))\n",
        "\n",
        "# #model.add(Flatten())\n",
        "# model.add(Dense(1, activation='sigmoid'))\n",
        "\n",
        "# adam = optimizers.Adam(lr=lr)\n",
        "# model.compile(optimizer=adam, loss='binary_crossentropy', metrics=['acc'])\n",
        "# print(model.summary())"
      ],
      "execution_count": null,
      "outputs": []
    },
    {
      "cell_type": "markdown",
      "metadata": {
        "papermill": {
          "duration": 0.368123,
          "end_time": "2021-01-06T07:34:34.790452",
          "exception": false,
          "start_time": "2021-01-06T07:34:34.422329",
          "status": "completed"
        },
        "tags": [],
        "id": "cRpwjNk5KR6o"
      },
      "source": [
        "<a id='Attention'></a>\n",
        "## 7.2. Bidirectional LSTM with Attention\n",
        "\n",
        "<img src = 'https://bn1301files.storage.live.com/y4mpYVhDp9W6iW73-HkwwbyvkDRtQBj8K6FIz4kb7-iQhcydjC0KzXrREYJy-Im10aox7hLJIetYLNhuusOdo6fBkgpSLnnZn2RCf2H-lfqw1CXfsXUv_wFiuf2QAK70HgeNo_Ayl3H4kIbT5FUgCLK0iS21B5uNIAgFXVKapAYwMdMYzmStGqSBkvQ_H4m_9A6?width=850&height=425&cropmode=none' width=800>"
      ]
    },
    {
      "cell_type": "markdown",
      "metadata": {
        "papermill": {
          "duration": 0.35901,
          "end_time": "2021-01-06T07:34:35.503055",
          "exception": false,
          "start_time": "2021-01-06T07:34:35.144045",
          "status": "completed"
        },
        "tags": [],
        "id": "KBQsa5rcKR6o"
      },
      "source": [
        "A vanilla LSTM only uses information from the previous timesteps and not from the future. In many NLP problems, words that come after the current timepoint also influences the current output, although this is less likely for other applications like weather forecasting. As such, a bidirectional LSTM takes into account information from both past and future to create the output at the current timepoint, as shown by the figure above in the LSTM layer. Note that a gated recurrent unit (GRU) can also be used instead of a LSTM.\n",
        "\n",
        "Also, another limitation with encoder-decoder architectures is that the encoder has to learn to encode input sequences into a *fixed-length internal representation*, which limits the performance of these networks, especially when considering very long input sequences. This means that the encoder has to compress all the information of a source input into a fixed-length vector and pass it to the encoder. The idea of **attention** aims to search for \"a set of positions in a source sentence where the most relevant information is concentrated. The model then predicts a target word based on the context vectors associated with these source positions and all the previous generated target words.\" — [Bahdanau et al., 2015](https://arxiv.org/abs/1409.0473)\n",
        "\n",
        "As seen from the figure above, the attention layer takes the bidirection hidden layer states and multiply them to a set of attention weights, which tells how much attention the current input should be paying attention to other past and future inputs (the **context**). These outputs at each timepoint will then be concatenated, which is the context, and will be used to generate the output. There are 2 main kinds of attention: **Global** and **Local** Attention.\n",
        "* **Global Attention**: Considers all hidden states of encoder LSTM and all hidden states[(Luong et al., 2015)](https://arxiv.org/abs/1508.04025) / previous hidden states [(Bahdanau et al., 2015)](https://arxiv.org/abs/1409.0473) of the unidirectional encoder LSTM. Global attention requires lots of computation as all hidden states are considered.\n",
        "* **Local Attention**: Only a part of the encoder hidden states are considered for context vector generation.\n",
        "\n",
        "\n"
      ]
    },
    {
      "cell_type": "code",
      "metadata": {
        "execution": {
          "iopub.execute_input": "2021-01-06T07:34:36.288148Z",
          "iopub.status.busy": "2021-01-06T07:34:36.287098Z",
          "iopub.status.idle": "2021-01-06T07:34:36.304369Z",
          "shell.execute_reply": "2021-01-06T07:34:36.303848Z"
        },
        "papermill": {
          "duration": 0.44851,
          "end_time": "2021-01-06T07:34:36.304490",
          "exception": false,
          "start_time": "2021-01-06T07:34:35.855980",
          "status": "completed"
        },
        "tags": [],
        "id": "a0oUW8z8KR6o"
      },
      "source": [
        "## Attention Class\n",
        "\n",
        "from keras.layers import Layer\n",
        "import keras.backend as K\n",
        "\n",
        "class attention(Layer):\n",
        "    def __init__(self,**kwargs):\n",
        "        super(attention,self).__init__(**kwargs)\n",
        "\n",
        "    def build(self,input_shape):\n",
        "        self.W=self.add_weight(name=\"att_weight\",shape=(input_shape[-1],1),initializer=\"normal\")\n",
        "        self.b=self.add_weight(name=\"att_bias\",shape=(input_shape[1],1),initializer=\"zeros\")        \n",
        "        super(attention, self).build(input_shape)\n",
        "\n",
        "    def call(self,x):\n",
        "        et=K.squeeze(K.tanh(K.dot(x,self.W)+self.b),axis=-1)\n",
        "        at=K.softmax(et)\n",
        "        at=K.expand_dims(at,axis=-1)\n",
        "        output=x*at\n",
        "        return K.sum(output,axis=1)\n",
        "\n",
        "    def compute_output_shape(self,input_shape):\n",
        "        return (input_shape[0],input_shape[-1])\n",
        "\n",
        "    def get_config(self):\n",
        "        return super(attention,self).get_config()"
      ],
      "execution_count": null,
      "outputs": []
    },
    {
      "cell_type": "code",
      "metadata": {
        "execution": {
          "iopub.execute_input": "2021-01-06T07:34:37.326824Z",
          "iopub.status.busy": "2021-01-06T07:34:37.325905Z",
          "iopub.status.idle": "2021-01-06T07:34:38.214504Z",
          "shell.execute_reply": "2021-01-06T07:34:38.213961Z"
        },
        "papermill": {
          "duration": 1.398983,
          "end_time": "2021-01-06T07:34:38.214609",
          "exception": false,
          "start_time": "2021-01-06T07:34:36.815626",
          "status": "completed"
        },
        "tags": [],
        "id": "sKhumqo9KR6o"
      },
      "source": [
        "### Attention\n",
        "\n",
        "## Hyperparameters\n",
        "num_epochs=15\n",
        "dropout=0.3\n",
        "recurrent_dropout=0.3\n",
        "lr=0.0005\n",
        "batch_size=128\n",
        "\n",
        "import tensorflow as tf\n",
        "from keras.models import Sequential\n",
        "from keras import Model\n",
        "from keras.layers.core import Activation, Dropout, Dense\n",
        "from keras.layers import Flatten, Input, Layer, GlobalMaxPooling1D, LSTM, Bidirectional, Concatenate\n",
        "from keras.layers.embeddings import Embedding\n",
        "from keras import optimizers\n",
        "\n",
        "## Embedding Layer\n",
        "sequence_input = Input(shape=(maxlen,))\n",
        "embedded_sequences = Embedding(vocab_size, 200, weights=[embedding_matrix], trainable=False)(sequence_input)\n",
        "\n",
        "## RNN Layer\n",
        "lstm = Bidirectional(LSTM(128, return_sequences = True, dropout=dropout, recurrent_dropout=recurrent_dropout))(embedded_sequences)\n",
        "# Getting our LSTM outputs\n",
        "(lstm, forward_h, forward_c, backward_h, backward_c) = Bidirectional(LSTM(128, return_sequences=True, return_state=True))(lstm)\n",
        "\n",
        "## Attention Layer\n",
        "att_out=attention()(lstm)\n",
        "outputs=Dense(1,activation='sigmoid')(att_out)\n",
        "model_attn = Model(sequence_input, outputs)\n",
        "\n",
        "adam = optimizers.Adam(lr=lr)\n",
        "#sgd = optimizers.sgd(lr=lr)\n",
        "model_attn.compile(optimizer=adam, loss='binary_crossentropy', metrics=['acc'])\n",
        "\n",
        "print(model_attn.summary())"
      ],
      "execution_count": null,
      "outputs": []
    },
    {
      "cell_type": "code",
      "metadata": {
        "execution": {
          "iopub.execute_input": "2021-01-06T07:34:38.958385Z",
          "iopub.status.busy": "2021-01-06T07:34:38.957476Z",
          "iopub.status.idle": "2021-01-06T07:39:19.378185Z",
          "shell.execute_reply": "2021-01-06T07:39:19.378681Z"
        },
        "papermill": {
          "duration": 280.783449,
          "end_time": "2021-01-06T07:39:19.378831",
          "exception": false,
          "start_time": "2021-01-06T07:34:38.595382",
          "status": "completed"
        },
        "tags": [],
        "id": "V1WgyFNaKR6p"
      },
      "source": [
        "checkpoint = ModelCheckpoint('attn_model.h5', monitor='val_acc', save_best_only=True)\n",
        "history_attn = model_attn.fit(X_train_text, y_train, batch_size=batch_size, callbacks=[checkpoint], epochs=num_epochs, \n",
        "                              class_weight=class_weight, validation_data=(X_val_text, y_val), verbose=1)\n",
        "plot_model_performance(history_attn)"
      ],
      "execution_count": null,
      "outputs": []
    },
    {
      "cell_type": "markdown",
      "metadata": {
        "papermill": {
          "duration": 0.619312,
          "end_time": "2021-01-06T07:39:20.619919",
          "exception": false,
          "start_time": "2021-01-06T07:39:20.000607",
          "status": "completed"
        },
        "tags": [],
        "id": "I-P9TWiNKR6p"
      },
      "source": [
        "Again, the validation loss is consistently higher than the train loss when using **class weights**."
      ]
    },
    {
      "cell_type": "markdown",
      "metadata": {
        "papermill": {
          "duration": 0.614367,
          "end_time": "2021-01-06T07:39:21.854408",
          "exception": false,
          "start_time": "2021-01-06T07:39:21.240041",
          "status": "completed"
        },
        "tags": [],
        "id": "8kcr5npFKR6p"
      },
      "source": [
        "<a id='BERT'></a>\n",
        "## 7.3. BERT\n",
        "\n",
        "The Bidirectional Encoder Representations from Transformers (BERT) is a language model developed by Google which has achieved state-of-the-art results in a variety of NLP tasks. BERT's key innovation is applying bidirectional training (actually it is non-directional, as it reads the entire sequence of words at once) of the encoder part of a **Transformer**.\n",
        "\n",
        "To understand BERT, we need to first understand what is a Transformer. The Transformer was first introduced in the very influential paper \"Attention is All You Need\" by [Vaswani et al., 2017](https://arxiv.org/abs/1706.03762). Below is the architecture of the Transformer. It gets past the sequential nature of traditional RNNs, and instead considers all inputs at the same time using **multi-headed self-attention**. To get a better intuition of self-attention as well as a more detailed explanation of the Transformer, refer to this [post](https://www.analyticsvidhya.com/blog/2019/06/understanding-transformers-nlp-state-of-the-art-models/). Also, since the model is no longer sequential (contains no recurrence), it uses positional encodings to \"inject some information about the relative or absolute position of the tokens in the sequence\". These positional encodings use sine and cosine functions and are added to the input embeddings at the bottom of the encoder and decoder.\n",
        "\n",
        "<img src = 'https://cdn.analyticsvidhya.com/wp-content/uploads/2019/06/Screenshot-from-2019-06-17-19-53-10.png' align='left'>\n",
        "<img src = 'https://cdn.analyticsvidhya.com/wp-content/uploads/2019/06/Screenshot-from-2019-06-17-20-05-30.png'>\n"
      ]
    },
    {
      "cell_type": "markdown",
      "metadata": {
        "papermill": {
          "duration": 0.806806,
          "end_time": "2021-01-06T07:39:23.276225",
          "exception": false,
          "start_time": "2021-01-06T07:39:22.469419",
          "status": "completed"
        },
        "tags": [],
        "id": "4Z42njguKR6p"
      },
      "source": [
        "The BERT model uses a multi-layer bidirectional Transformer encoder (stacks the encoder several times). Only the encoder is needed as its goal is to create a language model. It performs self-attention in both directions and is pre-trained using two unsupervised prediction tasks.\n",
        "\n",
        "**Masked Language Modelling** <br>\n",
        "15% of the words in each sequence are masked at random, and the model was trained to predict these masked words based on the context provided by the other non-masked words in the sequence. The loss function only takes into consideration the prediction of the masked values and not the non-masked words.\n",
        "\n",
        "**Next Sentence Prediction** <br>\n",
        "BERT was also pre-trained to capture the relationships between consecutive sentences. It uses pairs of sentences as its training data. 5o% of the inputs are a pair in which the second sentence is the subsequent sentence in the original document while the other half is a random sentence from the corpus.\n",
        "\n",
        "The figure below (upper) shows how BERT takes in the input and applies masking and sentence separation. The goal of training BERT is to minimize the combined loss function of these 2 strategies. Refer to this [post](https://towardsdatascience.com/bert-explained-state-of-the-art-language-model-for-nlp-f8b21a9b6270) for a more detailed explanation.\n",
        "\n",
        "For single sentence classification such as the current problem of classifying disaster tweet, the architecture of BERT will involve adding a classification layer (sigmoid) on top of the Transformer output for the [CLS] token (lower graph below).\n",
        "\n",
        "<br><br>\n",
        "\n",
        "<img src = 'https://bn1301files.storage.live.com/y4mGNBqhZEX0ARXkCSvNbAkqw5PNaxxm_STcxiBcYvZVJLhdhjaNWbmnxbhxZwxyhJzPG6B7mjWwCQEWdLKJTtM9e7Z_A2y58uKJi2HoNyaU9wB4y9L66TXdp8UVvUSNPpDJc3XBGEld4gESOXDwZRc4xSYWuG_T7a5t8lDYQ3veqOCeBgt9N3IO6tI_PxaXZJV?width=1425&height=451&cropmode=none' width=600>\n",
        "<img src = 'https://media.geeksforgeeks.org/wp-content/uploads/20200422012400/Single-Sentence-Classification-Task.png' width=500>"
      ]
    },
    {
      "cell_type": "code",
      "metadata": {
        "execution": {
          "iopub.execute_input": "2021-01-06T07:39:24.690180Z",
          "iopub.status.busy": "2021-01-06T07:39:24.688360Z",
          "iopub.status.idle": "2021-01-06T07:39:24.690858Z",
          "shell.execute_reply": "2021-01-06T07:39:24.691380Z"
        },
        "papermill": {
          "duration": 0.623755,
          "end_time": "2021-01-06T07:39:24.691512",
          "exception": false,
          "start_time": "2021-01-06T07:39:24.067757",
          "status": "completed"
        },
        "tags": [],
        "id": "hY70c8TYKR6p"
      },
      "source": [
        "# Hyperparameters\n",
        "maxlen = 160\n",
        "lr = 1e-5 # 1e-5 \n",
        "num_epochs = 3 # 5\n",
        "batch_size=16 # batch size cannot be too big for bert"
      ],
      "execution_count": null,
      "outputs": []
    },
    {
      "cell_type": "markdown",
      "metadata": {
        "papermill": {
          "duration": 0.840213,
          "end_time": "2021-01-06T07:39:26.140565",
          "exception": false,
          "start_time": "2021-01-06T07:39:25.300352",
          "status": "completed"
        },
        "tags": [],
        "id": "Ue4wEXp0KR6p"
      },
      "source": [
        "The following code for building the BERT model was taken from [Wojtek Rosa's notebook](https://www.kaggle.com/wrrosa/keras-bert-using-tfhub-modified-train-data). Credit goes to him for sharing it."
      ]
    },
    {
      "cell_type": "code",
      "metadata": {
        "execution": {
          "iopub.execute_input": "2021-01-06T07:39:27.441365Z",
          "iopub.status.busy": "2021-01-06T07:39:27.440426Z",
          "iopub.status.idle": "2021-01-06T07:39:28.859916Z",
          "shell.execute_reply": "2021-01-06T07:39:28.859230Z"
        },
        "papermill": {
          "duration": 2.101041,
          "end_time": "2021-01-06T07:39:28.860046",
          "exception": false,
          "start_time": "2021-01-06T07:39:26.759005",
          "status": "completed"
        },
        "tags": [],
        "id": "aOcmq0MiKR6p"
      },
      "source": [
        "# We will use the official tokenization script created by the Google team\n",
        "!wget --quiet https://raw.githubusercontent.com/tensorflow/models/master/official/nlp/bert/tokenization.py\n",
        "\n",
        "import tensorflow as tf\n",
        "import tensorflow_hub as hub\n",
        "from tensorflow.keras.layers import Dense, Input\n",
        "from tensorflow.keras.optimizers import Adam\n",
        "from tensorflow.keras.models import Model\n",
        "from tensorflow.keras.callbacks import ModelCheckpoint\n",
        "import tokenization\n",
        "\n",
        "\n",
        "def bert_encode(texts, tokenizer, max_len=512):\n",
        "    all_tokens = []\n",
        "    all_masks = []\n",
        "    all_segments = []\n",
        "    \n",
        "    for text in texts:\n",
        "        text = tokenizer.tokenize(text)\n",
        "            \n",
        "        text = text[:max_len-2]\n",
        "        input_sequence = [\"[CLS]\"] + text + [\"[SEP]\"]\n",
        "        pad_len = max_len - len(input_sequence)\n",
        "        \n",
        "        tokens = tokenizer.convert_tokens_to_ids(input_sequence)\n",
        "        tokens += [0] * pad_len\n",
        "        pad_masks = [1] * len(input_sequence) + [0] * pad_len\n",
        "        segment_ids = [0] * max_len\n",
        "        \n",
        "        all_tokens.append(tokens)\n",
        "        all_masks.append(pad_masks)\n",
        "        all_segments.append(segment_ids)\n",
        "    \n",
        "    return np.array(all_tokens), np.array(all_masks), np.array(all_segments)"
      ],
      "execution_count": null,
      "outputs": []
    },
    {
      "cell_type": "code",
      "metadata": {
        "execution": {
          "iopub.execute_input": "2021-01-06T07:39:30.114515Z",
          "iopub.status.busy": "2021-01-06T07:39:30.113615Z",
          "iopub.status.idle": "2021-01-06T07:39:30.116210Z",
          "shell.execute_reply": "2021-01-06T07:39:30.116808Z"
        },
        "papermill": {
          "duration": 0.627342,
          "end_time": "2021-01-06T07:39:30.116956",
          "exception": false,
          "start_time": "2021-01-06T07:39:29.489614",
          "status": "completed"
        },
        "tags": [],
        "id": "-4kiTQarKR6q"
      },
      "source": [
        "def build_model(bert_layer, max_len=512, lr=1e-5):\n",
        "    input_word_ids = Input(shape=(max_len,), dtype=tf.int32, name=\"input_word_ids\")\n",
        "    input_mask = Input(shape=(max_len,), dtype=tf.int32, name=\"input_mask\")\n",
        "    segment_ids = Input(shape=(max_len,), dtype=tf.int32, name=\"segment_ids\")\n",
        "\n",
        "    _, sequence_output = bert_layer([input_word_ids, input_mask, segment_ids])\n",
        "    clf_output = sequence_output[:, 0, :]\n",
        "    out = Dense(1, activation='sigmoid')(clf_output)\n",
        "    \n",
        "    model = Model(inputs=[input_word_ids, input_mask, segment_ids], outputs=out)\n",
        "    model.compile(Adam(lr=lr), loss='binary_crossentropy', metrics=['accuracy'])\n",
        "    \n",
        "    return model"
      ],
      "execution_count": null,
      "outputs": []
    },
    {
      "cell_type": "code",
      "metadata": {
        "execution": {
          "iopub.execute_input": "2021-01-06T07:39:31.370027Z",
          "iopub.status.busy": "2021-01-06T07:39:31.369102Z",
          "iopub.status.idle": "2021-01-06T07:40:34.853915Z",
          "shell.execute_reply": "2021-01-06T07:40:34.854520Z"
        },
        "papermill": {
          "duration": 64.118985,
          "end_time": "2021-01-06T07:40:34.854677",
          "exception": false,
          "start_time": "2021-01-06T07:39:30.735692",
          "status": "completed"
        },
        "tags": [],
        "id": "UNRS037WKR6q"
      },
      "source": [
        "%%time\n",
        "module_url = \"https://tfhub.dev/tensorflow/bert_en_uncased_L-24_H-1024_A-16/1\"\n",
        "bert_layer = hub.KerasLayer(module_url, trainable=True)\n",
        "\n",
        "vocab_file = bert_layer.resolved_object.vocab_file.asset_path.numpy()\n",
        "do_lower_case = bert_layer.resolved_object.do_lower_case.numpy()\n",
        "tokenizer = tokenization.FullTokenizer(vocab_file, do_lower_case)"
      ],
      "execution_count": null,
      "outputs": []
    },
    {
      "cell_type": "code",
      "metadata": {
        "execution": {
          "iopub.execute_input": "2021-01-06T07:40:36.104932Z",
          "iopub.status.busy": "2021-01-06T07:40:36.094779Z",
          "iopub.status.idle": "2021-01-06T07:40:40.307842Z",
          "shell.execute_reply": "2021-01-06T07:40:40.307208Z"
        },
        "papermill": {
          "duration": 4.843599,
          "end_time": "2021-01-06T07:40:40.307972",
          "exception": false,
          "start_time": "2021-01-06T07:40:35.464373",
          "status": "completed"
        },
        "tags": [],
        "id": "Acze-m_JKR6q"
      },
      "source": [
        "train_input = bert_encode(X_train.text.values, tokenizer, max_len=maxlen)\n",
        "val_input = bert_encode(X_val.text.values, tokenizer, max_len=maxlen)\n",
        "train_labels = y_train.target.values\n",
        "val_labels = y_val.target.values"
      ],
      "execution_count": null,
      "outputs": []
    },
    {
      "cell_type": "code",
      "metadata": {
        "execution": {
          "iopub.execute_input": "2021-01-06T07:40:41.694093Z",
          "iopub.status.busy": "2021-01-06T07:40:41.693180Z",
          "iopub.status.idle": "2021-01-06T07:40:44.418156Z",
          "shell.execute_reply": "2021-01-06T07:40:44.418892Z"
        },
        "papermill": {
          "duration": 3.479484,
          "end_time": "2021-01-06T07:40:44.419139",
          "exception": false,
          "start_time": "2021-01-06T07:40:40.939655",
          "status": "completed"
        },
        "tags": [],
        "id": "5ewvxEaEKR6q"
      },
      "source": [
        "bert_model = build_model(bert_layer, max_len=maxlen, lr=lr)\n",
        "bert_model.summary()"
      ],
      "execution_count": null,
      "outputs": []
    },
    {
      "cell_type": "code",
      "metadata": {
        "execution": {
          "iopub.execute_input": "2021-01-06T07:40:45.837885Z",
          "iopub.status.busy": "2021-01-06T07:40:45.836876Z",
          "iopub.status.idle": "2021-01-06T08:00:39.437456Z",
          "shell.execute_reply": "2021-01-06T08:00:39.438374Z"
        },
        "papermill": {
          "duration": 1194.255661,
          "end_time": "2021-01-06T08:00:39.438622",
          "exception": false,
          "start_time": "2021-01-06T07:40:45.182961",
          "status": "completed"
        },
        "tags": [],
        "id": "4hUbKsgBKR6q"
      },
      "source": [
        "checkpoint = ModelCheckpoint('bertmodel.h5', monitor='val_accuracy', save_best_only=True)\n",
        "\n",
        "bert_history = bert_model.fit(\n",
        "    train_input, train_labels,\n",
        "    validation_data=(val_input, val_labels),\n",
        "    epochs=num_epochs,\n",
        "    callbacks=[checkpoint], \n",
        "    #class_weight=class_weight,\n",
        "    batch_size=batch_size\n",
        ")"
      ],
      "execution_count": null,
      "outputs": []
    },
    {
      "cell_type": "markdown",
      "metadata": {
        "papermill": {
          "duration": 1.331409,
          "end_time": "2021-01-06T08:00:41.819183",
          "exception": false,
          "start_time": "2021-01-06T08:00:40.487774",
          "status": "completed"
        },
        "tags": [],
        "id": "KNNG1emnKR6q"
      },
      "source": [
        "### RoBERTa\n",
        "\n",
        "https://colab.research.google.com/github/DhavalTaunk08/NLP_scripts/blob/master/sentiment_analysis_using_roberta.ipynb#scrollTo=c3Q9NDdmqEyo"
      ]
    },
    {
      "cell_type": "markdown",
      "metadata": {
        "papermill": {
          "duration": 1.298907,
          "end_time": "2021-01-06T08:00:44.615001",
          "exception": false,
          "start_time": "2021-01-06T08:00:43.316094",
          "status": "completed"
        },
        "tags": [],
        "id": "Q8xfcWWbKR6q"
      },
      "source": [
        "<a id='Meta-data'></a>\n",
        "## 7.4. Feature-based Model\n",
        "\n",
        "Here, we will create a feature-based model using the meta-features that we created at the beginning. The idea is to ensemble this model and the sequence models together to get better predictions. When ensembling, the outputs of this model will be given less weight compared to the neural networks as the neural networks are more likely to be better learners."
      ]
    },
    {
      "cell_type": "code",
      "metadata": {
        "execution": {
          "iopub.execute_input": "2021-01-06T08:00:46.873491Z",
          "iopub.status.busy": "2021-01-06T08:00:46.872107Z",
          "iopub.status.idle": "2021-01-06T08:00:46.876843Z",
          "shell.execute_reply": "2021-01-06T08:00:46.877338Z"
        },
        "papermill": {
          "duration": 1.081887,
          "end_time": "2021-01-06T08:00:46.877467",
          "exception": false,
          "start_time": "2021-01-06T08:00:45.795580",
          "status": "completed"
        },
        "tags": [],
        "id": "c2ehHBHtKR6q"
      },
      "source": [
        "X_train"
      ],
      "execution_count": null,
      "outputs": []
    },
    {
      "cell_type": "code",
      "metadata": {
        "execution": {
          "iopub.execute_input": "2021-01-06T08:00:49.033178Z",
          "iopub.status.busy": "2021-01-06T08:00:49.032503Z",
          "iopub.status.idle": "2021-01-06T08:00:52.210829Z",
          "shell.execute_reply": "2021-01-06T08:00:52.209921Z"
        },
        "papermill": {
          "duration": 4.266744,
          "end_time": "2021-01-06T08:00:52.210953",
          "exception": false,
          "start_time": "2021-01-06T08:00:47.944209",
          "status": "completed"
        },
        "tags": [],
        "id": "scFK1rEAKR6r"
      },
      "source": [
        "from sklearn.ensemble import RandomForestClassifier\n",
        "from sklearn.metrics import accuracy_score\n",
        "\n",
        "clf = RandomForestClassifier(n_estimators=500, max_depth=15, min_samples_split=20, min_samples_leaf=2, n_jobs=-1, random_state=0)\n",
        "clf.fit(X_train.drop('text',axis=1), y_train.target.values)\n",
        "clf_pred = clf.predict_proba(X_val.drop('text',axis=1))\n",
        "\n",
        "print('Validation Accuracy:', accuracy_score(y_val.target.values, clf_pred.argmax(axis=-1)))"
      ],
      "execution_count": null,
      "outputs": []
    },
    {
      "cell_type": "code",
      "metadata": {
        "execution": {
          "iopub.execute_input": "2021-01-06T08:00:54.485261Z",
          "iopub.status.busy": "2021-01-06T08:00:54.484482Z",
          "iopub.status.idle": "2021-01-06T08:00:54.488161Z",
          "shell.execute_reply": "2021-01-06T08:00:54.488635Z"
        },
        "papermill": {
          "duration": 1.026101,
          "end_time": "2021-01-06T08:00:54.488761",
          "exception": false,
          "start_time": "2021-01-06T08:00:53.462660",
          "status": "completed"
        },
        "tags": [],
        "id": "PCy966U1KR6r"
      },
      "source": [
        "clf_pred.max(axis=-1)"
      ],
      "execution_count": null,
      "outputs": []
    },
    {
      "cell_type": "code",
      "metadata": {
        "execution": {
          "iopub.execute_input": "2021-01-06T08:00:56.556939Z",
          "iopub.status.busy": "2021-01-06T08:00:56.556223Z",
          "iopub.status.idle": "2021-01-06T08:00:56.562408Z",
          "shell.execute_reply": "2021-01-06T08:00:56.561898Z"
        },
        "papermill": {
          "duration": 1.054754,
          "end_time": "2021-01-06T08:00:56.562515",
          "exception": false,
          "start_time": "2021-01-06T08:00:55.507761",
          "status": "completed"
        },
        "tags": [],
        "id": "VUA0wzrKKR6r"
      },
      "source": [
        "clf_pred.max(axis=-1)*0.1"
      ],
      "execution_count": null,
      "outputs": []
    },
    {
      "cell_type": "markdown",
      "metadata": {
        "papermill": {
          "duration": 1.042409,
          "end_time": "2021-01-06T08:00:58.655439",
          "exception": false,
          "start_time": "2021-01-06T08:00:57.613030",
          "status": "completed"
        },
        "tags": [],
        "id": "B-A2rhpSKR6r"
      },
      "source": [
        "<a id='Error'></a>\n",
        "# 8. Error Analysis"
      ]
    },
    {
      "cell_type": "code",
      "metadata": {
        "execution": {
          "iopub.execute_input": "2021-01-06T08:01:01.341440Z",
          "iopub.status.busy": "2021-01-06T08:01:01.236933Z",
          "iopub.status.idle": "2021-01-06T08:01:38.628588Z",
          "shell.execute_reply": "2021-01-06T08:01:38.629107Z"
        },
        "papermill": {
          "duration": 38.920361,
          "end_time": "2021-01-06T08:01:38.629248",
          "exception": false,
          "start_time": "2021-01-06T08:00:59.708887",
          "status": "completed"
        },
        "tags": [],
        "id": "zTKKQDreKR6s"
      },
      "source": [
        "# val = X_val.copy()\n",
        "# val = val[['text']]\n",
        "# val['target'] = y_val\n",
        "# val['pred'] = model.predict(X_val_text)\n",
        "# val['pred'] = (val['pred']*0.8) + (clf_pred.max(axis=-1)*0.2)\n",
        "# val['pred'] = val['pred'].apply(lambda x: 1 if x >=0.5 else 0)\n",
        "# error = val[val['target'] != val['pred']]\n",
        "# error.head()\n",
        "\n",
        "bert_model.load_weights('bertmodel.h5')\n",
        "val = X_val.copy()\n",
        "val = val[['text']]\n",
        "val['target'] = y_val\n",
        "# val['pred'] = lstm_model.predict_classes(X_val_text)\n",
        "val['pred'] = bert_model.predict(val_input)\n",
        "val['pred'] = val['pred'].apply(lambda x: 1 if x >=0.5 else 0)\n",
        "error = val[val['target'] != val['pred']]\n",
        "error.head()"
      ],
      "execution_count": null,
      "outputs": []
    },
    {
      "cell_type": "code",
      "metadata": {
        "execution": {
          "iopub.execute_input": "2021-01-06T08:01:41.157858Z",
          "iopub.status.busy": "2021-01-06T08:01:41.156286Z",
          "iopub.status.idle": "2021-01-06T08:01:41.375390Z",
          "shell.execute_reply": "2021-01-06T08:01:41.374583Z"
        },
        "papermill": {
          "duration": 1.672873,
          "end_time": "2021-01-06T08:01:41.375532",
          "exception": false,
          "start_time": "2021-01-06T08:01:39.702659",
          "status": "completed"
        },
        "tags": [],
        "id": "fLUErb_UKR6s"
      },
      "source": [
        "from mlxtend.plotting import plot_confusion_matrix\n",
        "from sklearn.metrics import confusion_matrix\n",
        "\n",
        "# Plot confusion matrix\n",
        "cm  = confusion_matrix(val.target, val.pred)\n",
        "plt.figure()\n",
        "plot_confusion_matrix(cm,figsize=(12,8),cmap=plt.cm.Blues)\n",
        "plt.xticks(range(2), ['Non-Disaster', 'Disaster'], fontsize=16)\n",
        "plt.yticks(range(2), ['Non-Disaster', 'Disaster'], fontsize=16)\n",
        "plt.xlabel('Predicted Label',fontsize=18)\n",
        "plt.ylabel('True Label',fontsize=18)\n",
        "plt.show()\n",
        "\n",
        "print('Num False Negatives:',sum((val['target'] == 1) & (val['pred'] == 0)))\n",
        "print('Num False Positives:',sum((val['target'] == 0) & (val['pred'] == 1)))"
      ],
      "execution_count": null,
      "outputs": []
    },
    {
      "cell_type": "markdown",
      "metadata": {
        "papermill": {
          "duration": 1.075397,
          "end_time": "2021-01-06T08:01:43.894438",
          "exception": false,
          "start_time": "2021-01-06T08:01:42.819041",
          "status": "completed"
        },
        "tags": [],
        "id": "ZLUk_dsVKR6s"
      },
      "source": [
        "There appears to be more false negatives than false positives from the validation data, meaning that more tweets are being labelled as `not disaster` when in fact they are, even after using `class_weights` to adjust for the imbalance. Perhaps `disaster` tweets can be given even more weighting depending on the goal/purpose of the classification."
      ]
    },
    {
      "cell_type": "code",
      "metadata": {
        "execution": {
          "iopub.execute_input": "2021-01-06T08:01:46.179394Z",
          "iopub.status.busy": "2021-01-06T08:01:46.178457Z",
          "iopub.status.idle": "2021-01-06T08:01:46.190526Z",
          "shell.execute_reply": "2021-01-06T08:01:46.189955Z"
        },
        "papermill": {
          "duration": 1.04179,
          "end_time": "2021-01-06T08:01:46.190636",
          "exception": false,
          "start_time": "2021-01-06T08:01:45.148846",
          "status": "completed"
        },
        "tags": [],
        "id": "jRyhNdlkKR6s"
      },
      "source": [
        "for t in error[(error['target'] == 1) & (error['pred'] == 0)]['text'].sample(n=20, random_state=0):\n",
        "    print(t)"
      ],
      "execution_count": null,
      "outputs": []
    },
    {
      "cell_type": "markdown",
      "metadata": {
        "papermill": {
          "duration": 1.264202,
          "end_time": "2021-01-06T08:01:48.559455",
          "exception": false,
          "start_time": "2021-01-06T08:01:47.295253",
          "status": "completed"
        },
        "tags": [],
        "id": "vgaZZ_n1KR6t"
      },
      "source": [
        "<a id='Test'></a>\n",
        "# 9. Testing"
      ]
    },
    {
      "cell_type": "code",
      "metadata": {
        "execution": {
          "iopub.execute_input": "2021-01-06T08:01:50.869485Z",
          "iopub.status.busy": "2021-01-06T08:01:50.864301Z",
          "iopub.status.idle": "2021-01-06T08:01:52.137941Z",
          "shell.execute_reply": "2021-01-06T08:01:52.136870Z"
        },
        "papermill": {
          "duration": 2.475402,
          "end_time": "2021-01-06T08:01:52.138088",
          "exception": false,
          "start_time": "2021-01-06T08:01:49.662686",
          "status": "completed"
        },
        "tags": [],
        "id": "ZmCmqlZRKR6t"
      },
      "source": [
        "# count number of characters in each tweet\n",
        "test['char_len'] = test.text.str.len()\n",
        "\n",
        "# count number of words in each tweet\n",
        "word_tokens = [len(word_tokenize(tweet)) for tweet in test.text]\n",
        "test['word_len'] = word_tokens\n",
        "\n",
        "# count number of sentence in each tweet\n",
        "sent_tokens = [len(sent_tokenize(tweet)) for tweet in test.text]\n",
        "test['sent_len'] = sent_tokens"
      ],
      "execution_count": null,
      "outputs": []
    },
    {
      "cell_type": "code",
      "metadata": {
        "execution": {
          "iopub.execute_input": "2021-01-06T08:01:54.273719Z",
          "iopub.status.busy": "2021-01-06T08:01:54.248258Z",
          "iopub.status.idle": "2021-01-06T08:01:56.095757Z",
          "shell.execute_reply": "2021-01-06T08:01:56.095194Z"
        },
        "papermill": {
          "duration": 2.912936,
          "end_time": "2021-01-06T08:01:56.095865",
          "exception": false,
          "start_time": "2021-01-06T08:01:53.182929",
          "status": "completed"
        },
        "tags": [],
        "id": "8jlcWHCQKR6t"
      },
      "source": [
        "# polarity and subjectivity\n",
        "test['polarity'] = [TextBlob(tweet).sentiment.polarity for tweet in test.text]\n",
        "test['subjectivity'] = [TextBlob(tweet).sentiment.subjectivity for tweet in test.text]\n",
        "\n",
        "#############################################################################################################################\n",
        "# exclaimation and question marks\n",
        "test['exclaimation_num'] = [tweet.count('!') for tweet in test.text]\n",
        "test['questionmark_num'] = [tweet.count('?') for tweet in test.text]\n",
        "\n",
        "#############################################################################################################################\n",
        "# count number of hashtags and mentions\n",
        "# Function for counting number of hashtags and mentions\n",
        "def count_url_hashtag_mention(text):\n",
        "    urls_num = len(re.findall('http[s]?://(?:[a-zA-Z]|[0-9]|[$-_@.&+]|[!*\\(\\),]|(?:%[0-9a-fA-F][0-9a-fA-F]))+', text))\n",
        "    word_tokens = text.split()\n",
        "    hash_num = len([word for word in word_tokens if word[0] == '#' and word.count('#') == 1]) # only appears once in front of word \n",
        "    mention_num = len([word for word in word_tokens if word[0] == '@' and word.count('@') == 1]) # only appears once in front of word \n",
        "    return urls_num, hash_num, mention_num\n",
        "\n",
        "url_num, hash_num, mention_num = zip(*[count_url_hashtag_mention(tweet) for tweet in test.text])\n",
        "test = test.assign(url_num = url_num, hash_num = hash_num, mention_num = mention_num)\n",
        "\n",
        "#############################################################################################################################\n",
        "# count number of contractions\n",
        "contractions = [\"'t\", \"'re\", \"'s\", \"'d\", \"'ll\", \"'ve\", \"'m\"]\n",
        "test['contraction_num'] = [sum([tweet.count(cont) for cont in contractions]) for tweet in test.text]"
      ],
      "execution_count": null,
      "outputs": []
    },
    {
      "cell_type": "code",
      "metadata": {
        "execution": {
          "iopub.execute_input": "2021-01-06T08:01:58.184029Z",
          "iopub.status.busy": "2021-01-06T08:01:58.173843Z",
          "iopub.status.idle": "2021-01-06T08:01:58.236897Z",
          "shell.execute_reply": "2021-01-06T08:01:58.237413Z"
        },
        "papermill": {
          "duration": 1.124987,
          "end_time": "2021-01-06T08:01:58.237573",
          "exception": false,
          "start_time": "2021-01-06T08:01:57.112586",
          "status": "completed"
        },
        "tags": [],
        "id": "IPifk4AYKR6t"
      },
      "source": [
        "## Replace NaNs with 'None'\n",
        "test.keyword.fillna('None', inplace=True) \n",
        "\n",
        "#############################################################################################################################\n",
        "## Expand Contractions\n",
        "\n",
        "# Function for expanding most common contractions https://stackoverflow.com/questions/19790188/expanding-english-language-contractions-in-python\n",
        "def decontraction(phrase):\n",
        "    # specific\n",
        "    phrase = re.sub(r\"won\\'t\", \"will not\", phrase)\n",
        "    phrase = re.sub(r\"can\\'t\", \"can not\", phrase)\n",
        "\n",
        "    # general\n",
        "    phrase = re.sub(r\"n\\'t\", \" not\", phrase)\n",
        "    phrase = re.sub(r\"\\'re\", \" are\", phrase)\n",
        "    phrase = re.sub(r\"\\'s\", \" is\", phrase)\n",
        "    phrase = re.sub(r\"\\'d\", \" would\", phrase)\n",
        "    phrase = re.sub(r\"\\'ll\", \" will\", phrase)\n",
        "    phrase = re.sub(r\"\\'t\", \" not\", phrase)\n",
        "    phrase = re.sub(r\"\\'ve\", \" have\", phrase)\n",
        "    phrase = re.sub(r\"\\'m\", \" am\", phrase)\n",
        "    return phrase\n",
        "\n",
        "test.text = [decontraction(tweet) for tweet in test.text]\n",
        "\n",
        "#############################################################################################################################\n",
        "## Remove Emojis\n",
        "\n",
        "# Reference : https://gist.github.com/slowkow/7a7f61f495e3dbb7e3d767f97bd7304b\n",
        "def remove_emoji(text):\n",
        "    emoji_pattern = re.compile(\"[\"\n",
        "                           u\"\\U0001F600-\\U0001F64F\"  # emoticons\n",
        "                           u\"\\U0001F300-\\U0001F5FF\"  # symbols & pictographs\n",
        "                           u\"\\U0001F680-\\U0001F6FF\"  # transport & map symbols\n",
        "                           u\"\\U0001F1E0-\\U0001F1FF\"  # flags (iOS)\n",
        "                           u\"\\U00002702-\\U000027B0\"\n",
        "                           u\"\\U000024C2-\\U0001F251\"\n",
        "                           \"]+\", flags=re.UNICODE)\n",
        "    return emoji_pattern.sub(r'', text)\n",
        "\n",
        "print(remove_emoji(\"OMG there is a volcano eruption!!! 😭😱😷\"))\n",
        "\n",
        "test.text = test.text.apply(lambda x: remove_emoji(x))"
      ],
      "execution_count": null,
      "outputs": []
    },
    {
      "cell_type": "code",
      "metadata": {
        "execution": {
          "iopub.execute_input": "2021-01-06T08:02:00.560796Z",
          "iopub.status.busy": "2021-01-06T08:02:00.545349Z",
          "iopub.status.idle": "2021-01-06T08:02:00.652083Z",
          "shell.execute_reply": "2021-01-06T08:02:00.651477Z"
        },
        "papermill": {
          "duration": 1.145339,
          "end_time": "2021-01-06T08:02:00.652199",
          "exception": false,
          "start_time": "2021-01-06T08:01:59.506860",
          "status": "completed"
        },
        "tags": [],
        "id": "KHn-09vPKR6t"
      },
      "source": [
        "#############################################################################################################################\n",
        "## Remove URLs\n",
        "test.text = test.text.apply(lambda x: remove_url(x))\n",
        "\n",
        "#############################################################################################################################\n",
        "## Remove Punctuations except '!?'\n",
        "\n",
        "def remove_punct(text):\n",
        "    new_punct = re.sub('\\ |\\!|\\?', '', punctuation)\n",
        "    table=str.maketrans('','',new_punct)\n",
        "    return text.translate(table)\n",
        "\n",
        "test.text = test.text.apply(lambda x: remove_punct(x))\n",
        "\n",
        "#############################################################################################################################\n",
        "## Replace amp\n",
        "def replace_amp(text):\n",
        "    text = re.sub(r\" amp \", \" and \", text)\n",
        "    return text\n",
        "\n",
        "test.text = test.text.apply(lambda x: replace_amp(x))\n",
        "\n",
        "#############################################################################################################################"
      ],
      "execution_count": null,
      "outputs": []
    },
    {
      "cell_type": "code",
      "metadata": {
        "execution": {
          "iopub.execute_input": "2021-01-06T08:02:02.747750Z",
          "iopub.status.busy": "2021-01-06T08:02:02.746969Z",
          "iopub.status.idle": "2021-01-06T08:02:02.777993Z",
          "shell.execute_reply": "2021-01-06T08:02:02.777364Z"
        },
        "papermill": {
          "duration": 1.101075,
          "end_time": "2021-01-06T08:02:02.778128",
          "exception": false,
          "start_time": "2021-01-06T08:02:01.677053",
          "status": "completed"
        },
        "tags": [],
        "id": "sxRFvp9DKR6t"
      },
      "source": [
        "# from wordsegment import load, segment\n",
        "# load()\n",
        "\n",
        "# test.text = test.text.apply(lambda x: ' '.join(segment(x)))\n",
        "\n",
        "test = pd.read_csv('../input/twitter-logo/tweets_test_segmented.csv')"
      ],
      "execution_count": null,
      "outputs": []
    },
    {
      "cell_type": "code",
      "metadata": {
        "execution": {
          "iopub.execute_input": "2021-01-06T08:02:04.880960Z",
          "iopub.status.busy": "2021-01-06T08:02:04.870486Z",
          "iopub.status.idle": "2021-01-06T08:02:05.806544Z",
          "shell.execute_reply": "2021-01-06T08:02:05.805986Z"
        },
        "papermill": {
          "duration": 2.006891,
          "end_time": "2021-01-06T08:02:05.806658",
          "exception": false,
          "start_time": "2021-01-06T08:02:03.799767",
          "status": "completed"
        },
        "tags": [],
        "id": "Re523xHEKR6u"
      },
      "source": [
        "## Lemmatization\n",
        "\n",
        "from nltk.stem import WordNetLemmatizer\n",
        "\n",
        "lemmatizer = WordNetLemmatizer()\n",
        "def lemma(text):\n",
        "    words = word_tokenize(text)\n",
        "    return ' '.join([lemmatizer.lemmatize(w.lower(), pos='v') for w in words])\n",
        "\n",
        "test.text = test.text.apply(lambda x: lemma(x))"
      ],
      "execution_count": null,
      "outputs": []
    },
    {
      "cell_type": "code",
      "metadata": {
        "execution": {
          "iopub.execute_input": "2021-01-06T08:02:07.871980Z",
          "iopub.status.busy": "2021-01-06T08:02:07.870980Z",
          "iopub.status.idle": "2021-01-06T08:02:07.966987Z",
          "shell.execute_reply": "2021-01-06T08:02:07.966412Z"
        },
        "papermill": {
          "duration": 1.129841,
          "end_time": "2021-01-06T08:02:07.967161",
          "exception": false,
          "start_time": "2021-01-06T08:02:06.837320",
          "status": "completed"
        },
        "tags": [],
        "id": "IoHoUir_KR6u"
      },
      "source": [
        "# tokenize\n",
        "test_text = test['text']\n",
        "test_text = tokenizer_1.texts_to_sequences(test_text)\n",
        "\n",
        "# padding\n",
        "test_text = pad_sequences(test_text, padding='post', maxlen=50)\n",
        "\n",
        "print('X_test shape:', test_text.shape)"
      ],
      "execution_count": null,
      "outputs": []
    },
    {
      "cell_type": "code",
      "metadata": {
        "execution": {
          "iopub.execute_input": "2021-01-06T08:02:10.333427Z",
          "iopub.status.busy": "2021-01-06T08:02:10.332371Z",
          "iopub.status.idle": "2021-01-06T08:02:12.925635Z",
          "shell.execute_reply": "2021-01-06T08:02:12.924921Z"
        },
        "papermill": {
          "duration": 3.913953,
          "end_time": "2021-01-06T08:02:12.925753",
          "exception": false,
          "start_time": "2021-01-06T08:02:09.011800",
          "status": "completed"
        },
        "tags": [],
        "id": "CQugg8aGKR6u"
      },
      "source": [
        "# lstm prediction\n",
        "# model.predict(test_text)\n",
        "lstm_model.load_weights('lstm_model.h5')\n",
        "submission = test.copy()[['id']]\n",
        "submission['target'] = lstm_model.predict_classes(test_text)\n",
        "submission.to_csv('submission.csv', index=False)\n",
        "display(submission.head())\n",
        "\n"
      ],
      "execution_count": null,
      "outputs": []
    },
    {
      "cell_type": "code",
      "metadata": {
        "execution": {
          "iopub.execute_input": "2021-01-06T08:02:15.078967Z",
          "iopub.status.busy": "2021-01-06T08:02:15.073517Z",
          "iopub.status.idle": "2021-01-06T08:02:18.615389Z",
          "shell.execute_reply": "2021-01-06T08:02:18.614325Z"
        },
        "papermill": {
          "duration": 4.663513,
          "end_time": "2021-01-06T08:02:18.615549",
          "exception": false,
          "start_time": "2021-01-06T08:02:13.952036",
          "status": "completed"
        },
        "tags": [],
        "id": "kNANtIFaKR6v"
      },
      "source": [
        "# bi-lstm attention prediction\n",
        "model_attn.load_weights('attn_model.h5')\n",
        "submission_attn = test.copy()[['id']]\n",
        "submission_attn['target'] = model_attn.predict(test_text)\n",
        "submission_attn['target'] = submission_attn['target'].apply(lambda x: 1 if x >=0.5 else 0)\n",
        "submission_attn.to_csv('submission_attn.csv', index=False)\n",
        "display(submission_attn.head())"
      ],
      "execution_count": null,
      "outputs": []
    },
    {
      "cell_type": "code",
      "metadata": {
        "execution": {
          "iopub.execute_input": "2021-01-06T08:02:20.959246Z",
          "iopub.status.busy": "2021-01-06T08:02:20.958124Z",
          "iopub.status.idle": "2021-01-06T08:03:24.686057Z",
          "shell.execute_reply": "2021-01-06T08:03:24.686617Z"
        },
        "papermill": {
          "duration": 64.98751,
          "end_time": "2021-01-06T08:03:24.686758",
          "exception": false,
          "start_time": "2021-01-06T08:02:19.699248",
          "status": "completed"
        },
        "tags": [],
        "id": "KOmcu3dbKR6w"
      },
      "source": [
        "# bert prediction\n",
        "\n",
        "test_input = bert_encode(test.text.values, tokenizer, max_len=160)\n",
        "\n",
        "bert_model.load_weights('bertmodel.h5')\n",
        "submission_bert = test.copy()[['id']]\n",
        "submission_bert['target'] = bert_model.predict(test_input)\n",
        "submission_bert['target'] = submission_bert['target'].apply(lambda x: 1 if x >=0.5 else 0)\n",
        "submission_bert.to_csv('submission_bert.csv', index=False)\n",
        "display(submission_bert.head())"
      ],
      "execution_count": null,
      "outputs": []
    },
    {
      "cell_type": "code",
      "metadata": {
        "execution": {
          "iopub.execute_input": "2021-01-06T08:03:27.057402Z",
          "iopub.status.busy": "2021-01-06T08:03:27.056536Z",
          "iopub.status.idle": "2021-01-06T08:04:28.129346Z",
          "shell.execute_reply": "2021-01-06T08:04:28.129871Z"
        },
        "papermill": {
          "duration": 62.392098,
          "end_time": "2021-01-06T08:04:28.130008",
          "exception": false,
          "start_time": "2021-01-06T08:03:25.737910",
          "status": "completed"
        },
        "tags": [],
        "id": "D9hPTg0SKR6w"
      },
      "source": [
        "# bert + meta-features prediction\n",
        "\n",
        "clf_testpred = clf.predict_proba(test.drop(['id','keyword','location','text'],axis=1))\n",
        "submission_bert = test.copy()[['id']]\n",
        "submission_bert['target'] = (bert_model.predict(test_input)*0.8).ravel() + (clf_testpred.max(axis=1)*0.2)\n",
        "submission_bert['target'] = submission_bert['target'].apply(lambda x: 1 if x >=0.5 else 0)\n",
        "submission_bert.to_csv('submission_bert_ensemble.csv', index=False)\n",
        "display(submission_bert.head())"
      ],
      "execution_count": null,
      "outputs": []
    },
    {
      "cell_type": "code",
      "metadata": {
        "execution": {
          "iopub.execute_input": "2021-01-06T08:04:30.234862Z",
          "iopub.status.busy": "2021-01-06T08:04:30.233912Z",
          "iopub.status.idle": "2021-01-06T08:04:30.414866Z",
          "shell.execute_reply": "2021-01-06T08:04:30.414326Z"
        },
        "papermill": {
          "duration": 1.251068,
          "end_time": "2021-01-06T08:04:30.414975",
          "exception": false,
          "start_time": "2021-01-06T08:04:29.163907",
          "status": "completed"
        },
        "tags": [],
        "id": "PEHParKEKR6w"
      },
      "source": [
        "submission_bert['target'].plot(kind='hist')"
      ],
      "execution_count": null,
      "outputs": []
    },
    {
      "cell_type": "markdown",
      "metadata": {
        "papermill": {
          "duration": 1.103852,
          "end_time": "2021-01-06T08:04:32.548202",
          "exception": false,
          "start_time": "2021-01-06T08:04:31.444350",
          "status": "completed"
        },
        "tags": [],
        "id": "QI70L8mWKR6x"
      },
      "source": [
        "<a id='Conclusion'></a>\n",
        "# 10. Conclusion"
      ]
    },
    {
      "cell_type": "markdown",
      "metadata": {
        "papermill": {
          "duration": 1.050184,
          "end_time": "2021-01-06T08:04:34.768912",
          "exception": false,
          "start_time": "2021-01-06T08:04:33.718728",
          "status": "completed"
        },
        "tags": [],
        "id": "hg6e9HrWKR6x"
      },
      "source": [
        "https://stackabuse.com/python-for-nlp-movie-sentiment-analysis-using-deep-learning-in-keras/\n",
        "\n",
        "https://www.analyticsvidhya.com/blog/2020/03/pretrained-word-embeddings-nlp/\n",
        "\n",
        "### attention\n",
        "https://matthewmcateer.me/blog/getting-started-with-attention-for-classification/\n"
      ]
    },
    {
      "cell_type": "markdown",
      "metadata": {
        "papermill": {
          "duration": 1.017907,
          "end_time": "2021-01-06T08:04:36.803134",
          "exception": false,
          "start_time": "2021-01-06T08:04:35.785227",
          "status": "completed"
        },
        "tags": [],
        "id": "2ene1SkuKR6x"
      },
      "source": [
        "##  TO DO\n",
        "* Word and Char vectorizer\n",
        "* Remove numbers? Convert numbers to words?\n",
        "* Unigrams, Bigrams and Trigrams\n",
        "* Glove; remove stopwords, clean before glove?\n",
        "* Logistic Regression, BOW, TD IDF, GloVe, BERT?\n",
        "* Check Duplicates\n",
        "* Decaying LR"
      ]
    }
  ]
}